{
 "cells": [
  {
   "cell_type": "markdown",
   "id": "6f5c0099-c1a9-4271-9844-41b8ea2cca23",
   "metadata": {},
   "source": [
    "# FINITE DIFFERENCE METHOD FOR CONTINUOUS FUNCTION "
   ]
  },
  {
   "cell_type": "markdown",
   "id": "89de49ea-ef1a-491c-8072-9d081bd9793e",
   "metadata": {},
   "source": [
    "# Exercise 1.2\n",
    "\n",
    "## part (a)\n",
    "\n",
    "Use the method of undetermined coefficients to set up the $5×5$ Vandermonde system that would determine a fourth-order accurate finite difference approximation to $u''(x)$ based on 5 equally spaced points, \n",
    "\n",
    "$$u''(x) = c_{-2}u(x-2h)+c_{-1}u(x-h)+c_0u(x) + c_1u(x+h) +c_2u(x+2h) + O(h^4).$$"
   ]
  },
  {
   "cell_type": "markdown",
   "id": "1ad2b561-e85a-4b46-93d5-daf62c7a2984",
   "metadata": {},
   "source": [
    "Let $\\alpha_k = \\frac{1}{k!} u^{(k)}(x)$\n",
    "\n",
    "$u(x-2h)= \\alpha_0 - 2\\alpha_1 h + 4\\alpha_2 h^2 - 8\\alpha_3 h^3 + 16\\alpha_4 h^4 - 32\\alpha_5 h^5$\n",
    "\n",
    "$u(x-h)= \\alpha_0 - \\alpha_1 h + \\alpha_2 h^2 - \\alpha_3 h^3 + \\alpha_4 h^4 - \\alpha_5 h^5$\n",
    "\n",
    "$u(x)= \\alpha_0 $\n",
    "\n",
    "$u(x+h)= \\alpha_0 + \\alpha_1 h + \\alpha_2 h^2 + \\alpha_3 h^3 + \\alpha_4 h^4 + \\alpha_5 h^5$\n",
    "\n",
    "$u(x+2h)= \\alpha_0 + 2\\alpha_1 h + 4\\alpha_2 h^2 + 8\\alpha_3 h^3 + 16\\alpha_4 h^4 + 32\\alpha_5 h^5$\n",
    "\n",
    "So,\n",
    "\n",
    "$$D^2u(x) = (c_{-2} + c_{-1} + c_0 + c_1 + c_2)\\alpha_0$$\n",
    "\n",
    "$$ + (-2c_{-2} - c_{-1} + c_1 + 2c_2)\\alpha_1$$\n",
    "         \n",
    "$$ + (4c_{-2} + c_{-1} + c_1 + 4c_2)\\alpha_2$$\n",
    "         \n",
    "$$ + (-8c_{-2} - c_{-1} + c_1 + 8c_2)\\alpha_3$$\n",
    "         \n",
    "$$ + (16c_{-2} + c_{-1} + c_1 + 16c_2)\\alpha_4$$\n",
    "         \n",
    "$$ + (-32c_{-2} - c_{-1} + c_1 + 32c_2)\\alpha_5 + O(h^6)$$\n",
    "         \n",
    "         \n",
    "$c_{-2} + c_{-1} + c_0 + c_1 + c_2=0$\n",
    "\n",
    "$-2c_{-2} - c_{-1} + c_1 + 2c_2=0$\n",
    "\n",
    "$4c_{-2} + c_{-1} + c_1 + 4c_2=\\frac{2}{h^2}$\n",
    "\n",
    "$-8c_{-2} - c_{-1} + c_1 + 8c_2=0$\n",
    "\n",
    "$16c_{-2} + c_{-1} + c_1 + 16c_2=0$\n",
    "\n",
    "\n",
    "$$\n",
    "\\left(\\begin{array}{cc} \n",
    " 1 &  1 & 1 & 1 &  1 \\\\\n",
    "-2 & -1 & 0 & 1 &  2 \\\\\n",
    " 4 &  1 & 0 & 1 &  4 \\\\\n",
    "-8 & -1 & 0 & 1 &  8 \\\\\n",
    "16 &  1 & 0 & 1 & 16 \n",
    "\\end{array}\\right)\n",
    "\\left(\\begin{array}{cc} \n",
    "c_{-2} \\\\ \n",
    "c_{-1} \\\\\n",
    "c_0 \\\\\n",
    "c_1 \\\\\n",
    "c_2\n",
    "\\end{array}\\right) = \\frac{1}{h^2}\n",
    "\\left(\\begin{array}{cc} \n",
    "0 \\\\ \n",
    "0 \\\\\n",
    "2 \\\\\n",
    "0 \\\\\n",
    "0 \\\\\n",
    "\\end{array}\\right)\n",
    "$$ "
   ]
  },
  {
   "cell_type": "markdown",
   "id": "9fad5a70-9c0f-4102-9912-2aeac62d73b2",
   "metadata": {},
   "source": [
    "using Printf, LinearAlgebra, Plots"
   ]
  },
  {
   "cell_type": "code",
   "execution_count": 3,
   "id": "52d92821-3a92-40ce-bd55-8a51919c33de",
   "metadata": {},
   "outputs": [
    {
     "data": {
      "text/plain": [
       "5×5 Matrix{Rational{Int64}}:\n",
       "  1   1  1  1   1\n",
       " -2  -1  0  1   2\n",
       "  4   1  0  1   4\n",
       " -8  -1  0  1   8\n",
       " 16   1  0  1  16"
      ]
     },
     "execution_count": 3,
     "metadata": {},
     "output_type": "execute_result"
    }
   ],
   "source": [
    "# 5x5 Vandermonde matrix A and vector b\n",
    "A = [1 1 1 1 1; -2 -1 0 1 2; 4 1 0 1 4; -8 -1 0 1 8; 16 1 0 1 16//1]"
   ]
  },
  {
   "cell_type": "code",
   "execution_count": 3,
   "id": "df5338e9-739c-4c50-a71e-8c5cbfdf17c1",
   "metadata": {},
   "outputs": [
    {
     "data": {
      "text/plain": [
       "5-element Vector{Rational{Int64}}:\n",
       " 0\n",
       " 0\n",
       " 2\n",
       " 0\n",
       " 0"
      ]
     },
     "execution_count": 3,
     "metadata": {},
     "output_type": "execute_result"
    }
   ],
   "source": [
    "b = [0; 0; 2; 0; 0//1]\n"
   ]
  },
  {
   "cell_type": "code",
   "execution_count": 4,
   "id": "6ccf1abf-e580-4489-a37e-9879a2f0670c",
   "metadata": {},
   "outputs": [
    {
     "name": "stdout",
     "output_type": "stream",
     "text": [
      "\n",
      "Computed Coefficients (c):\n",
      "     Coeff      Value\n",
      "--------------------------\n",
      "        -2   -0.08333\n",
      "        -1    1.33333\n",
      "         0   -2.50000\n",
      "         1    1.33333\n",
      "         2   -0.08333\n"
     ]
    },
    {
     "data": {
      "text/plain": [
       "5-element Vector{Rational{Int64}}:\n",
       " -1//12\n",
       "  4//3\n",
       " -5//2\n",
       "  4//3\n",
       " -1//12"
      ]
     },
     "execution_count": 4,
     "metadata": {},
     "output_type": "execute_result"
    }
   ],
   "source": [
    "# Function to print coefficients using fdcoeffF method\n",
    "function fdstencil(k, j)\n",
    "    n = length(j)\n",
    "    A = [1 1 1 1 1; -2 -1 0 1 2; 4 1 0 1 4; -8 -1 0 1 8; 16 1 0 1 16//1]\n",
    "    b = [0; 0; 2; 0; 0//1]\n",
    "    c = A \\ b//1  # Solves the system A * c = b\n",
    "\n",
    "    println(\"\\nComputed Coefficients (c):\")\n",
    "    @printf(\"%10s %10s\\n\", \"Coeff\", \"Value\")\n",
    "    println(\"--------------------------\")\n",
    "    for i in 1:n\n",
    "        @printf(\"%10d %10.5f\\n\", i - 3, c[i])\n",
    "    end\n",
    "\n",
    "    return c\n",
    "end\n",
    "\n",
    "# Call fdstencil to compute the coefficients\n",
    "coefficients = fdstencil(2, [-2, -1, 0, 1, 2])\n"
   ]
  },
  {
   "cell_type": "markdown",
   "id": "4c6b837f-116c-45de-886d-489813b0f7d3",
   "metadata": {},
   "source": [
    "$$\\left(\\begin{array}{cc} \n",
    "c_{-2} \\\\ \n",
    "c_{-1} \\\\\n",
    "c_0 \\\\\n",
    "c_1 \\\\\n",
    "c_2\n",
    "\\end{array}\\right) =\n",
    "\\left(\\begin{array}{cc} \n",
    "\\frac{-1}{12} \\\\ \n",
    "\\frac{4}{3} \\\\\n",
    "\\frac{-5}{2} \\\\\n",
    "\\frac{4}{3} \\\\\n",
    "\\frac{-1}{12}\n",
    "\\end{array}\\right)\n",
    "$$"
   ]
  },
  {
   "cell_type": "code",
   "execution_count": 1,
   "id": "b70bfef1-fe6a-4079-810e-e666f9a314a7",
   "metadata": {},
   "outputs": [
    {
     "data": {
      "text/plain": [
       "0//1"
      ]
     },
     "execution_count": 1,
     "metadata": {},
     "output_type": "execute_result"
    }
   ],
   "source": [
    "[-1//12, 4//3, -5//2, 4//3, -1//12]' * [-32, -1, 0, 1, 32//1]"
   ]
  },
  {
   "cell_type": "code",
   "execution_count": 2,
   "id": "5879f892-f370-4b39-aec9-cae6d045ae00",
   "metadata": {},
   "outputs": [
    {
     "data": {
      "text/plain": [
       "-8//1"
      ]
     },
     "execution_count": 2,
     "metadata": {},
     "output_type": "execute_result"
    }
   ],
   "source": [
    "[-1//12, 4//3, -5//2, 4//3, -1//12]' * [64, 1, 0, 1, 64//1]"
   ]
  },
  {
   "cell_type": "markdown",
   "id": "8cfdd574-e809-4985-8dc6-99675057d12c",
   "metadata": {},
   "source": [
    "$$D^2u(x) = \\frac{1}{h^2}(\\frac{-1}{12}u(x-2h) + \\frac{4}{3}u(x-h) + \\frac{-5}{2}u(x) + \\frac{4}{3}u(x+h) + \\frac{-1}{12}u(x+2h))$$\n",
    "\n",
    "From above calculation, the error is:\n",
    "\n",
    "$$D^2u(x)-u''(x) = \\frac{-8}{6!}\\frac{h^6}{h^2}u^{(6)}(x) + O(h^5)$$\n",
    "\n",
    "$$ = \\frac{-8}{720} h^4 u^{(6)}(x) + O(h^5)$$\n",
    "\n",
    "$$ = \\frac{-1}{90} h^4 u^{(6)}(x) + O(h^5)$$\n",
    "\n",
    "$D^2u(x)$ is a fourth-order accurate finite difference approximation to $u''(x)$ with approximate error $\\frac{-1}{90} h^4 u^{(6)}(x) + O(h^5)$"
   ]
  },
  {
   "cell_type": "markdown",
   "id": "8c0bee84-b135-41d0-b8df-d2c2baa871da",
   "metadata": {},
   "source": [
    "## part (b) \n",
    "\n",
    "Compute the coefficients using the matlab code fdstencil.m available from the website, and check that they satisfy the system you determined in part (a)."
   ]
  },
  {
   "cell_type": "code",
   "execution_count": 5,
   "id": "7d2c8cc1-ee37-432f-b5f8-5f12a246408e",
   "metadata": {},
   "outputs": [],
   "source": [
    "using Printf, LinearAlgebra, Plots"
   ]
  },
  {
   "cell_type": "code",
   "execution_count": 6,
   "id": "1e25f9eb-51ad-4b59-83cc-f8d8a6e51aa3",
   "metadata": {},
   "outputs": [
    {
     "name": "stdout",
     "output_type": "stream",
     "text": [
      "        -2   -0.08333\n",
      "        -1    1.33333\n",
      "         0   -2.50000\n",
      "         1    1.33333\n",
      "         2   -0.08333\n"
     ]
    },
    {
     "data": {
      "text/plain": [
       "13-element Vector{Float64}:\n",
       " 6.443064817762689e-5\n",
       " 6.458816553589486e-6\n",
       " 6.463801960343574e-7\n",
       " 6.465288482360165e-8\n",
       " 6.4630221174866165e-9\n",
       " 6.375318051254908e-10\n",
       " 5.203970587785989e-11\n",
       " 3.9181546895861175e-11\n",
       " 2.810276455988969e-10\n",
       " 4.824238786227397e-10\n",
       " 2.1128951921411954e-9\n",
       " 2.896122452966665e-9\n",
       " 3.3754251838047367e-8"
      ]
     },
     "execution_count": 6,
     "metadata": {},
     "output_type": "execute_result"
    }
   ],
   "source": [
    "# 5x5 Vandermonde matrix\n",
    "function vMatrix()\n",
    "    A = [1 1 1 1 1; -2 -1 0 1 2; 4 1 0 1 4; -8 -1 0 1 8; 16 1 0 1 16]\n",
    "    b = [0; 0; 2; 0; 0]\n",
    "    c = A \\ b  # Solve for coefficients\n",
    "    for i in 1:length(c)\n",
    "        @printf(\"%10d %10.5f\\n\", i - 3, c[i])\n",
    "    end\n",
    "    return c\n",
    "end\n",
    "\n",
    "# Computing finite difference coefficients\n",
    "coefficients = vMatrix()\n",
    "\n",
    "# Function u(x) = sin(2x) and exact second derivative\n",
    "u(x) = sin(2 * x)\n",
    "upp(x) = -4 * sin(2 * x)\n",
    "\n",
    "# spaced values of h\n",
    "hvals = exp10.(range(-1, stop=-4, length=13))\n",
    "\n",
    "# errors for different values of h\n",
    "errors = [abs(sum(coefficients .* u.(1 .+ h * [-2, -1, 0, 1, 2]))/h^2 - upp(1.0)) for h in hvals]\n",
    "\n",
    "\n",
    "\n"
   ]
  },
  {
   "cell_type": "code",
   "execution_count": 9,
   "id": "b16754d6-003d-4915-8bc7-386d936bda8e",
   "metadata": {},
   "outputs": [
    {
     "name": "stdout",
     "output_type": "stream",
     "text": [
      "     h           Error      Predicted Error\n",
      "---------------------------------------------\n",
      "1.0e-01     6.44306e-05          1.00000e-02\n",
      "5.6e-02     6.45882e-06          3.16228e-03\n",
      "3.2e-02     6.46380e-07          1.00000e-03\n",
      "1.8e-02     6.46529e-08          3.16228e-04\n",
      "1.0e-02     6.46302e-09          1.00000e-04\n",
      "5.6e-03     6.37532e-10          3.16228e-05\n",
      "3.2e-03     5.20397e-11          1.00000e-05\n",
      "1.8e-03     3.91815e-11          3.16228e-06\n",
      "1.0e-03     2.81028e-10          1.00000e-06\n",
      "5.6e-04     4.82424e-10          3.16228e-07\n",
      "3.2e-04     2.11290e-09          1.00000e-07\n",
      "1.8e-04     2.89612e-09          3.16228e-08\n",
      "1.0e-04     3.37543e-08          1.00000e-08\n"
     ]
    }
   ],
   "source": [
    "\n",
    "# table comparing h, actual error, and predicted error\n",
    "@printf(\"%6s %15s %20s\\n\", \"h\", \"Error\", \"Predicted Error\")\n",
    "@printf(\"%s\\n\", \"-\"^45)\n",
    "\n",
    "for h in hvals\n",
    "    # Calculating the approximation for the second derivative (upp)\n",
    "    finite_diff_upp = sum(coefficients .* u.(1 .+ h * [-2, -1, 0, 1, 2]))/h^2  # Approximation of u''(1)\n",
    "    \n",
    "    # Actual error for the second derivative approximation\n",
    "    error_upp = abs(finite_diff_upp - upp(1.0))  # Exact second derivative at x = 1.0 is upp(1)\n",
    "\n",
    "    # Predicted error for current h (second-order method, h^2 scaling)\n",
    "    predicted_error = h^2\n",
    "\n",
    "    # Print h, the actual error for u'', and the predicted error (h^2)\n",
    "    @printf(\"%6.1e %15.5e %20.5e\\n\", h, error_upp, predicted_error)\n",
    "end\n",
    "\n",
    "print()\n"
   ]
  },
  {
   "cell_type": "code",
   "execution_count": 11,
   "id": "e2a00542-1a42-475c-b10f-8a8cf8d8c266",
   "metadata": {},
   "outputs": [
    {
     "data": {
      "image/png": "[encoded data removed]",
      "image/svg+xml": [
       "<?xml version=\"1.0\" encoding=\"utf-8\"?>\n",
       "<svg xmlns=\"http://www.w3.org/2000/svg\" xmlns:xlink=\"http://www.w3.org/1999/xlink\" width=\"600\" height=\"400\" viewBox=\"0 0 2400 1600\">\n",
       "<defs>\n",
       "  <clipPath id=\"clip630\">\n",
       "    <rect x=\"0\" y=\"0\" width=\"2400\" height=\"1600\"/>\n",
       "  </clipPath>\n",
       "</defs>\n",
       "<path clip-path=\"url(#clip630)\" d=\"M0 1600 L2400 1600 L2400 0 L0 0  Z\" fill=\"#ffffff\" fill-rule=\"evenodd\" fill-opacity=\"1\"/>\n",
       "<defs>\n",
       "  <clipPath id=\"clip631\">\n",
       "    <rect x=\"480\" y=\"0\" width=\"1681\" height=\"1600\"/>\n",
       "  </clipPath>\n",
       "</defs>\n",
       "<path clip-path=\"url(#clip630)\" d=\"M252.501 1410.9 L2352.76 1410.9 L2352.76 123.472 L252.501 123.472  Z\" fill=\"#ffffff\" fill-rule=\"evenodd\" fill-opacity=\"1\"/>\n",
       "<defs>\n",
       "  <clipPath id=\"clip632\">\n",
       "    <rect x=\"252\" y=\"123\" width=\"2101\" height=\"1288\"/>\n",
       "  </clipPath>\n",
       "</defs>\n",
       "<polyline clip-path=\"url(#clip632)\" style=\"stroke:#000000; stroke-linecap:round; stroke-linejoin:round; stroke-width:2; stroke-opacity:0.1; fill:none\" points=\"311.942,1410.9 311.942,123.472 \"/>\n",
       "<polyline clip-path=\"url(#clip632)\" style=\"stroke:#000000; stroke-linecap:round; stroke-linejoin:round; stroke-width:2; stroke-opacity:0.1; fill:none\" points=\"1632.86,1410.9 1632.86,123.472 \"/>\n",
       "<polyline clip-path=\"url(#clip632)\" style=\"stroke:#000000; stroke-linecap:round; stroke-linejoin:round; stroke-width:2; stroke-opacity:0.1; fill:none\" points=\"252.501,1099.56 2352.76,1099.56 \"/>\n",
       "<polyline clip-path=\"url(#clip632)\" style=\"stroke:#000000; stroke-linecap:round; stroke-linejoin:round; stroke-width:2; stroke-opacity:0.1; fill:none\" points=\"252.501,513.389 2352.76,513.389 \"/>\n",
       "<polyline clip-path=\"url(#clip630)\" style=\"stroke:#000000; stroke-linecap:round; stroke-linejoin:round; stroke-width:4; stroke-opacity:1; fill:none\" points=\"252.501,1410.9 2352.76,1410.9 \"/>\n",
       "<polyline clip-path=\"url(#clip630)\" style=\"stroke:#000000; stroke-linecap:round; stroke-linejoin:round; stroke-width:4; stroke-opacity:1; fill:none\" points=\"311.942,1410.9 311.942,1392 \"/>\n",
       "<polyline clip-path=\"url(#clip630)\" style=\"stroke:#000000; stroke-linecap:round; stroke-linejoin:round; stroke-width:4; stroke-opacity:1; fill:none\" points=\"1632.86,1410.9 1632.86,1392 \"/>\n",
       "<path clip-path=\"url(#clip630)\" d=\"M261.361 1485.02 L269 1485.02 L269 1458.66 L260.69 1460.32 L260.69 1456.06 L268.954 1454.4 L273.63 1454.4 L273.63 1485.02 L281.269 1485.02 L281.269 1488.96 L261.361 1488.96 L261.361 1485.02 Z\" fill=\"#000000\" fill-rule=\"nonzero\" fill-opacity=\"1\" /><path clip-path=\"url(#clip630)\" d=\"M300.713 1457.48 Q297.102 1457.48 295.273 1461.04 Q293.468 1464.58 293.468 1471.71 Q293.468 1478.82 295.273 1482.38 Q297.102 1485.92 300.713 1485.92 Q304.347 1485.92 306.153 1482.38 Q307.981 1478.82 307.981 1471.71 Q307.981 1464.58 306.153 1461.04 Q304.347 1457.48 300.713 1457.48 M300.713 1453.77 Q306.523 1453.77 309.579 1458.38 Q312.657 1462.96 312.657 1471.71 Q312.657 1480.44 309.579 1485.04 Q306.523 1489.63 300.713 1489.63 Q294.903 1489.63 291.824 1485.04 Q288.768 1480.44 288.768 1471.71 Q288.768 1462.96 291.824 1458.38 Q294.903 1453.77 300.713 1453.77 Z\" fill=\"#000000\" fill-rule=\"nonzero\" fill-opacity=\"1\" /><path clip-path=\"url(#clip630)\" d=\"M312.657 1447.87 L336.769 1447.87 L336.769 1451.07 L312.657 1451.07 L312.657 1447.87 Z\" fill=\"#000000\" fill-rule=\"nonzero\" fill-opacity=\"1\" /><path clip-path=\"url(#clip630)\" d=\"M355.407 1436.78 L345.815 1451.77 L355.407 1451.77 L355.407 1436.78 M354.41 1433.47 L359.188 1433.47 L359.188 1451.77 L363.194 1451.77 L363.194 1454.93 L359.188 1454.93 L359.188 1461.55 L355.407 1461.55 L355.407 1454.93 L342.731 1454.93 L342.731 1451.26 L354.41 1433.47 Z\" fill=\"#000000\" fill-rule=\"nonzero\" fill-opacity=\"1\" /><path clip-path=\"url(#clip630)\" d=\"M1583.12 1485.02 L1590.76 1485.02 L1590.76 1458.66 L1582.45 1460.32 L1582.45 1456.06 L1590.72 1454.4 L1595.39 1454.4 L1595.39 1485.02 L1603.03 1485.02 L1603.03 1488.96 L1583.12 1488.96 L1583.12 1485.02 Z\" fill=\"#000000\" fill-rule=\"nonzero\" fill-opacity=\"1\" /><path clip-path=\"url(#clip630)\" d=\"M1622.47 1457.48 Q1618.86 1457.48 1617.03 1461.04 Q1615.23 1464.58 1615.23 1471.71 Q1615.23 1478.82 1617.03 1482.38 Q1618.86 1485.92 1622.47 1485.92 Q1626.11 1485.92 1627.91 1482.38 Q1629.74 1478.82 1629.74 1471.71 Q1629.74 1464.58 1627.91 1461.04 Q1626.11 1457.48 1622.47 1457.48 M1622.47 1453.77 Q1628.28 1453.77 1631.34 1458.38 Q1634.42 1462.96 1634.42 1471.71 Q1634.42 1480.44 1631.34 1485.04 Q1628.28 1489.63 1622.47 1489.63 Q1616.66 1489.63 1613.59 1485.04 Q1610.53 1480.44 1610.53 1471.71 Q1610.53 1462.96 1613.59 1458.38 Q1616.66 1453.77 1622.47 1453.77 Z\" fill=\"#000000\" fill-rule=\"nonzero\" fill-opacity=\"1\" /><path clip-path=\"url(#clip630)\" d=\"M1634.42 1447.87 L1658.53 1447.87 L1658.53 1451.07 L1634.42 1451.07 L1634.42 1447.87 Z\" fill=\"#000000\" fill-rule=\"nonzero\" fill-opacity=\"1\" /><path clip-path=\"url(#clip630)\" d=\"M1670 1458.35 L1683.26 1458.35 L1683.26 1461.55 L1665.43 1461.55 L1665.43 1458.35 Q1667.6 1456.11 1671.32 1452.35 Q1675.06 1448.57 1676.02 1447.48 Q1677.85 1445.43 1678.56 1444.02 Q1679.29 1442.59 1679.29 1441.22 Q1679.29 1438.98 1677.71 1437.57 Q1676.15 1436.16 1673.63 1436.16 Q1671.85 1436.16 1669.85 1436.78 Q1667.88 1437.4 1665.62 1438.66 L1665.62 1434.82 Q1667.92 1433.9 1669.91 1433.43 Q1671.9 1432.96 1673.56 1432.96 Q1677.92 1432.96 1680.52 1435.14 Q1683.11 1437.32 1683.11 1440.97 Q1683.11 1442.7 1682.45 1444.26 Q1681.81 1445.8 1680.1 1447.91 Q1679.63 1448.46 1677.11 1451.07 Q1674.59 1453.67 1670 1458.35 Z\" fill=\"#000000\" fill-rule=\"nonzero\" fill-opacity=\"1\" /><path clip-path=\"url(#clip630)\" d=\"M1317.56 1552.67 L1317.56 1574.19 L1311.7 1574.19 L1311.7 1552.86 Q1311.7 1547.8 1309.73 1545.29 Q1307.75 1542.77 1303.81 1542.77 Q1299.06 1542.77 1296.33 1545.79 Q1293.59 1548.82 1293.59 1554.04 L1293.59 1574.19 L1287.7 1574.19 L1287.7 1524.66 L1293.59 1524.66 L1293.59 1544.08 Q1295.69 1540.86 1298.52 1539.27 Q1301.39 1537.68 1305.11 1537.68 Q1311.25 1537.68 1314.4 1541.5 Q1317.56 1545.29 1317.56 1552.67 Z\" fill=\"#000000\" fill-rule=\"nonzero\" fill-opacity=\"1\" /><polyline clip-path=\"url(#clip630)\" style=\"stroke:#000000; stroke-linecap:round; stroke-linejoin:round; stroke-width:4; stroke-opacity:1; fill:none\" points=\"252.501,1410.9 252.501,123.472 \"/>\n",
       "<polyline clip-path=\"url(#clip630)\" style=\"stroke:#000000; stroke-linecap:round; stroke-linejoin:round; stroke-width:4; stroke-opacity:1; fill:none\" points=\"252.501,1099.56 271.398,1099.56 \"/>\n",
       "<polyline clip-path=\"url(#clip630)\" style=\"stroke:#000000; stroke-linecap:round; stroke-linejoin:round; stroke-width:4; stroke-opacity:1; fill:none\" points=\"252.501,513.389 271.398,513.389 \"/>\n",
       "<path clip-path=\"url(#clip630)\" d=\"M115.214 1119.35 L122.852 1119.35 L122.852 1092.99 L114.542 1094.65 L114.542 1090.4 L122.806 1088.73 L127.482 1088.73 L127.482 1119.35 L135.121 1119.35 L135.121 1123.29 L115.214 1123.29 L115.214 1119.35 Z\" fill=\"#000000\" fill-rule=\"nonzero\" fill-opacity=\"1\" /><path clip-path=\"url(#clip630)\" d=\"M154.565 1091.81 Q150.954 1091.81 149.125 1095.37 Q147.32 1098.91 147.32 1106.04 Q147.32 1113.15 149.125 1116.71 Q150.954 1120.26 154.565 1120.26 Q158.199 1120.26 160.005 1116.71 Q161.834 1113.15 161.834 1106.04 Q161.834 1098.91 160.005 1095.37 Q158.199 1091.81 154.565 1091.81 M154.565 1088.1 Q160.375 1088.1 163.431 1092.71 Q166.51 1097.29 166.51 1106.04 Q166.51 1114.77 163.431 1119.38 Q160.375 1123.96 154.565 1123.96 Q148.755 1123.96 145.676 1119.38 Q142.621 1114.77 142.621 1106.04 Q142.621 1097.29 145.676 1092.71 Q148.755 1088.1 154.565 1088.1 Z\" fill=\"#000000\" fill-rule=\"nonzero\" fill-opacity=\"1\" /><path clip-path=\"url(#clip630)\" d=\"M166.51 1082.21 L190.621 1082.21 L190.621 1085.4 L166.51 1085.4 L166.51 1082.21 Z\" fill=\"#000000\" fill-rule=\"nonzero\" fill-opacity=\"1\" /><path clip-path=\"url(#clip630)\" d=\"M198.934 1095.3 L198.934 1091.83 Q200.364 1092.51 201.831 1092.87 Q203.298 1093.23 204.708 1093.23 Q208.47 1093.23 210.445 1090.71 Q212.438 1088.17 212.72 1083.01 Q211.629 1084.63 209.956 1085.5 Q208.282 1086.36 206.25 1086.36 Q202.037 1086.36 199.574 1083.82 Q197.129 1081.26 197.129 1076.84 Q197.129 1072.52 199.686 1069.9 Q202.244 1067.29 206.495 1067.29 Q211.366 1067.29 213.924 1071.03 Q216.501 1074.76 216.501 1081.87 Q216.501 1088.51 213.341 1092.47 Q210.2 1096.42 204.877 1096.42 Q203.448 1096.42 201.981 1096.14 Q200.514 1095.86 198.934 1095.3 M206.495 1083.39 Q209.053 1083.39 210.539 1081.64 Q212.043 1079.89 212.043 1076.84 Q212.043 1073.82 210.539 1072.07 Q209.053 1070.3 206.495 1070.3 Q203.937 1070.3 202.432 1072.07 Q200.947 1073.82 200.947 1076.84 Q200.947 1079.89 202.432 1081.64 Q203.937 1083.39 206.495 1083.39 Z\" fill=\"#000000\" fill-rule=\"nonzero\" fill-opacity=\"1\" /><path clip-path=\"url(#clip630)\" d=\"M114.931 533.181 L122.57 533.181 L122.57 506.816 L114.26 508.482 L114.26 504.223 L122.524 502.556 L127.2 502.556 L127.2 533.181 L134.839 533.181 L134.839 537.116 L114.931 537.116 L114.931 533.181 Z\" fill=\"#000000\" fill-rule=\"nonzero\" fill-opacity=\"1\" /><path clip-path=\"url(#clip630)\" d=\"M154.283 505.635 Q150.672 505.635 148.843 509.2 Q147.038 512.741 147.038 519.871 Q147.038 526.977 148.843 530.542 Q150.672 534.084 154.283 534.084 Q157.917 534.084 159.723 530.542 Q161.552 526.977 161.552 519.871 Q161.552 512.741 159.723 509.2 Q157.917 505.635 154.283 505.635 M154.283 501.931 Q160.093 501.931 163.149 506.538 Q166.227 511.121 166.227 519.871 Q166.227 528.598 163.149 533.204 Q160.093 537.788 154.283 537.788 Q148.473 537.788 145.394 533.204 Q142.339 528.598 142.339 519.871 Q142.339 511.121 145.394 506.538 Q148.473 501.931 154.283 501.931 Z\" fill=\"#000000\" fill-rule=\"nonzero\" fill-opacity=\"1\" /><path clip-path=\"url(#clip630)\" d=\"M166.227 496.033 L190.339 496.033 L190.339 499.23 L166.227 499.23 L166.227 496.033 Z\" fill=\"#000000\" fill-rule=\"nonzero\" fill-opacity=\"1\" /><path clip-path=\"url(#clip630)\" d=\"M207.134 494.152 Q204.577 494.152 203.072 495.901 Q201.586 497.65 201.586 500.697 Q201.586 503.725 203.072 505.493 Q204.577 507.242 207.134 507.242 Q209.692 507.242 211.178 505.493 Q212.683 503.725 212.683 500.697 Q212.683 497.65 211.178 495.901 Q209.692 494.152 207.134 494.152 M214.676 482.247 L214.676 485.707 Q213.247 485.03 211.78 484.673 Q210.332 484.315 208.902 484.315 Q205.141 484.315 203.147 486.854 Q201.172 489.394 200.89 494.528 Q202 492.892 203.674 492.027 Q205.348 491.143 207.36 491.143 Q211.592 491.143 214.037 493.719 Q216.501 496.277 216.501 500.697 Q216.501 505.023 213.943 507.637 Q211.385 510.251 207.134 510.251 Q202.263 510.251 199.686 506.527 Q197.11 502.785 197.11 495.694 Q197.11 489.036 200.27 485.087 Q203.429 481.118 208.752 481.118 Q210.181 481.118 211.629 481.4 Q213.096 481.682 214.676 482.247 Z\" fill=\"#000000\" fill-rule=\"nonzero\" fill-opacity=\"1\" /><path clip-path=\"url(#clip630)\" d=\"M16.4842 843.43 L16.4842 813.384 L21.895 813.384 L21.895 837 L35.9632 837 L35.9632 814.37 L41.3741 814.37 L41.3741 837 L58.5933 837 L58.5933 812.811 L64.0042 812.811 L64.0042 843.43 L16.4842 843.43 Z\" fill=\"#000000\" fill-rule=\"nonzero\" fill-opacity=\"1\" /><path clip-path=\"url(#clip630)\" d=\"M33.8307 781.841 Q33.2578 782.828 33.0032 784.006 Q32.7167 785.152 32.7167 786.552 Q32.7167 791.517 35.9632 794.191 Q39.1779 796.833 45.2253 796.833 L64.0042 796.833 L64.0042 802.721 L28.3562 802.721 L28.3562 796.833 L33.8944 796.833 Q30.6479 794.987 29.0883 792.027 Q27.4968 789.067 27.4968 784.833 Q27.4968 784.229 27.5923 783.497 Q27.656 782.764 27.8151 781.873 L33.8307 781.841 Z\" fill=\"#000000\" fill-rule=\"nonzero\" fill-opacity=\"1\" /><path clip-path=\"url(#clip630)\" d=\"M33.8307 756.188 Q33.2578 757.174 33.0032 758.352 Q32.7167 759.498 32.7167 760.898 Q32.7167 765.864 35.9632 768.537 Q39.1779 771.179 45.2253 771.179 L64.0042 771.179 L64.0042 777.067 L28.3562 777.067 L28.3562 771.179 L33.8944 771.179 Q30.6479 769.333 29.0883 766.373 Q27.4968 763.413 27.4968 759.18 Q27.4968 758.575 27.5923 757.843 Q27.656 757.111 27.8151 756.219 L33.8307 756.188 Z\" fill=\"#000000\" fill-rule=\"nonzero\" fill-opacity=\"1\" /><path clip-path=\"url(#clip630)\" d=\"M32.4621 737.663 Q32.4621 742.374 36.1542 745.111 Q39.8145 747.849 46.212 747.849 Q52.6095 747.849 56.3017 745.143 Q59.9619 742.406 59.9619 737.663 Q59.9619 732.985 56.2698 730.247 Q52.5777 727.51 46.212 727.51 Q39.8781 727.51 36.186 730.247 Q32.4621 732.985 32.4621 737.663 M27.4968 737.663 Q27.4968 730.025 32.4621 725.664 Q37.4273 721.304 46.212 721.304 Q54.9649 721.304 59.9619 725.664 Q64.9272 730.025 64.9272 737.663 Q64.9272 745.334 59.9619 749.695 Q54.9649 754.023 46.212 754.023 Q37.4273 754.023 32.4621 749.695 Q27.4968 745.334 27.4968 737.663 Z\" fill=\"#000000\" fill-rule=\"nonzero\" fill-opacity=\"1\" /><path clip-path=\"url(#clip630)\" d=\"M33.8307 690.939 Q33.2578 691.926 33.0032 693.103 Q32.7167 694.249 32.7167 695.65 Q32.7167 700.615 35.9632 703.289 Q39.1779 705.93 45.2253 705.93 L64.0042 705.93 L64.0042 711.819 L28.3562 711.819 L28.3562 705.93 L33.8944 705.93 Q30.6479 704.084 29.0883 701.124 Q27.4968 698.164 27.4968 693.931 Q27.4968 693.326 27.5923 692.594 Q27.656 691.862 27.8151 690.971 L33.8307 690.939 Z\" fill=\"#000000\" fill-rule=\"nonzero\" fill-opacity=\"1\" /><path clip-path=\"url(#clip630)\" d=\"M524.247 12.096 L559.004 12.096 L559.004 18.9825 L532.43 18.9825 L532.43 36.8065 L556.411 36.8065 L556.411 43.6931 L532.43 43.6931 L532.43 72.576 L524.247 72.576 L524.247 12.096 Z\" fill=\"#000000\" fill-rule=\"nonzero\" fill-opacity=\"1\" /><path clip-path=\"url(#clip630)\" d=\"M565.607 27.2059 L573.06 27.2059 L573.06 72.576 L565.607 72.576 L565.607 27.2059 M565.607 9.54393 L573.06 9.54393 L573.06 18.9825 L565.607 18.9825 L565.607 9.54393 Z\" fill=\"#000000\" fill-rule=\"nonzero\" fill-opacity=\"1\" /><path clip-path=\"url(#clip630)\" d=\"M626.37 45.1919 L626.37 72.576 L618.917 72.576 L618.917 45.4349 Q618.917 38.994 616.405 35.7938 Q613.894 32.5936 608.87 32.5936 Q602.835 32.5936 599.351 36.4419 Q595.867 40.2903 595.867 46.9338 L595.867 72.576 L588.373 72.576 L588.373 27.2059 L595.867 27.2059 L595.867 34.2544 Q598.541 30.163 602.146 28.1376 Q605.792 26.1121 610.531 26.1121 Q618.35 26.1121 622.36 30.9732 Q626.37 35.7938 626.37 45.1919 Z\" fill=\"#000000\" fill-rule=\"nonzero\" fill-opacity=\"1\" /><path clip-path=\"url(#clip630)\" d=\"M641.237 27.2059 L648.691 27.2059 L648.691 72.576 L641.237 72.576 L641.237 27.2059 M641.237 9.54393 L648.691 9.54393 L648.691 18.9825 L641.237 18.9825 L641.237 9.54393 Z\" fill=\"#000000\" fill-rule=\"nonzero\" fill-opacity=\"1\" /><path clip-path=\"url(#clip630)\" d=\"M671.659 14.324 L671.659 27.2059 L687.012 27.2059 L687.012 32.9987 L671.659 32.9987 L671.659 57.6282 Q671.659 63.1779 673.158 64.7578 Q674.698 66.3376 679.356 66.3376 L687.012 66.3376 L687.012 72.576 L679.356 72.576 Q670.728 72.576 667.446 69.3758 Q664.165 66.1351 664.165 57.6282 L664.165 32.9987 L658.697 32.9987 L658.697 27.2059 L664.165 27.2059 L664.165 14.324 L671.659 14.324 Z\" fill=\"#000000\" fill-rule=\"nonzero\" fill-opacity=\"1\" /><path clip-path=\"url(#clip630)\" d=\"M735.623 48.0275 L735.623 51.6733 L701.353 51.6733 Q701.839 59.3701 705.971 63.421 Q710.143 67.4314 717.556 67.4314 Q721.85 67.4314 725.861 66.3781 Q729.911 65.3249 733.881 63.2184 L733.881 70.267 Q729.871 71.9684 725.658 72.8596 Q721.445 73.7508 717.111 73.7508 Q706.254 73.7508 699.894 67.4314 Q693.575 61.1119 693.575 50.3365 Q693.575 39.1965 699.57 32.6746 Q705.606 26.1121 715.814 26.1121 Q724.969 26.1121 730.276 32.0264 Q735.623 37.9003 735.623 48.0275 M728.17 45.84 Q728.089 39.7232 724.726 36.0774 Q721.405 32.4315 715.895 32.4315 Q709.657 32.4315 705.89 35.9558 Q702.163 39.4801 701.596 45.8805 L728.17 45.84 Z\" fill=\"#000000\" fill-rule=\"nonzero\" fill-opacity=\"1\" /><path clip-path=\"url(#clip630)\" d=\"M804.083 34.0924 L804.083 9.54393 L811.537 9.54393 L811.537 72.576 L804.083 72.576 L804.083 65.7705 Q801.734 69.8214 798.129 71.8063 Q794.564 73.7508 789.541 73.7508 Q781.317 73.7508 776.132 67.1883 Q770.988 60.6258 770.988 49.9314 Q770.988 39.2371 776.132 32.6746 Q781.317 26.1121 789.541 26.1121 Q794.564 26.1121 798.129 28.0971 Q801.734 30.0415 804.083 34.0924 M778.684 49.9314 Q778.684 58.1548 782.047 62.8538 Q785.449 67.5124 791.364 67.5124 Q797.278 67.5124 800.681 62.8538 Q804.083 58.1548 804.083 49.9314 Q804.083 41.7081 800.681 37.0496 Q797.278 32.3505 791.364 32.3505 Q785.449 32.3505 782.047 37.0496 Q778.684 41.7081 778.684 49.9314 Z\" fill=\"#000000\" fill-rule=\"nonzero\" fill-opacity=\"1\" /><path clip-path=\"url(#clip630)\" d=\"M826.89 27.2059 L834.344 27.2059 L834.344 72.576 L826.89 72.576 L826.89 27.2059 M826.89 9.54393 L834.344 9.54393 L834.344 18.9825 L826.89 18.9825 L826.89 9.54393 Z\" fill=\"#000000\" fill-rule=\"nonzero\" fill-opacity=\"1\" /><path clip-path=\"url(#clip630)\" d=\"M872.908 9.54393 L872.908 15.7418 L865.779 15.7418 Q861.768 15.7418 860.189 17.3622 Q858.649 18.9825 858.649 23.1955 L858.649 27.2059 L870.923 27.2059 L870.923 32.9987 L858.649 32.9987 L858.649 72.576 L851.155 72.576 L851.155 32.9987 L844.025 32.9987 L844.025 27.2059 L851.155 27.2059 L851.155 24.0462 Q851.155 16.471 854.679 13.0277 Q858.204 9.54393 865.86 9.54393 L872.908 9.54393 Z\" fill=\"#000000\" fill-rule=\"nonzero\" fill-opacity=\"1\" /><path clip-path=\"url(#clip630)\" d=\"M902.115 9.54393 L902.115 15.7418 L894.986 15.7418 Q890.975 15.7418 889.396 17.3622 Q887.856 18.9825 887.856 23.1955 L887.856 27.2059 L900.13 27.2059 L900.13 32.9987 L887.856 32.9987 L887.856 72.576 L880.362 72.576 L880.362 32.9987 L873.232 32.9987 L873.232 27.2059 L880.362 27.2059 L880.362 24.0462 Q880.362 16.471 883.886 13.0277 Q887.411 9.54393 895.067 9.54393 L902.115 9.54393 Z\" fill=\"#000000\" fill-rule=\"nonzero\" fill-opacity=\"1\" /><path clip-path=\"url(#clip630)\" d=\"M947.161 48.0275 L947.161 51.6733 L912.891 51.6733 Q913.377 59.3701 917.509 63.421 Q921.681 67.4314 929.094 67.4314 Q933.388 67.4314 937.399 66.3781 Q941.45 65.3249 945.42 63.2184 L945.42 70.267 Q941.409 71.9684 937.196 72.8596 Q932.983 73.7508 928.649 73.7508 Q917.792 73.7508 911.432 67.4314 Q905.113 61.1119 905.113 50.3365 Q905.113 39.1965 911.108 32.6746 Q917.144 26.1121 927.353 26.1121 Q936.508 26.1121 941.814 32.0264 Q947.161 37.9003 947.161 48.0275 M939.708 45.84 Q939.627 39.7232 936.264 36.0774 Q932.943 32.4315 927.434 32.4315 Q921.195 32.4315 917.428 35.9558 Q913.701 39.4801 913.134 45.8805 L939.708 45.84 Z\" fill=\"#000000\" fill-rule=\"nonzero\" fill-opacity=\"1\" /><path clip-path=\"url(#clip630)\" d=\"M985.686 34.1734 Q984.43 33.4443 982.931 33.1202 Q981.473 32.7556 979.69 32.7556 Q973.371 32.7556 969.968 36.8875 Q966.606 40.9789 966.606 48.6757 L966.606 72.576 L959.112 72.576 L959.112 27.2059 L966.606 27.2059 L966.606 34.2544 Q968.955 30.1225 972.723 28.1376 Q976.49 26.1121 981.878 26.1121 Q982.647 26.1121 983.579 26.2337 Q984.511 26.3147 985.645 26.5172 L985.686 34.1734 Z\" fill=\"#000000\" fill-rule=\"nonzero\" fill-opacity=\"1\" /><path clip-path=\"url(#clip630)\" d=\"M1030.49 48.0275 L1030.49 51.6733 L996.218 51.6733 Q996.704 59.3701 1000.84 63.421 Q1005.01 67.4314 1012.42 67.4314 Q1016.72 67.4314 1020.73 66.3781 Q1024.78 65.3249 1028.75 63.2184 L1028.75 70.267 Q1024.74 71.9684 1020.52 72.8596 Q1016.31 73.7508 1011.98 73.7508 Q1001.12 73.7508 994.76 67.4314 Q988.44 61.1119 988.44 50.3365 Q988.44 39.1965 994.435 32.6746 Q1000.47 26.1121 1010.68 26.1121 Q1019.83 26.1121 1025.14 32.0264 Q1030.49 37.9003 1030.49 48.0275 M1023.03 45.84 Q1022.95 39.7232 1019.59 36.0774 Q1016.27 32.4315 1010.76 32.4315 Q1004.52 32.4315 1000.75 35.9558 Q997.028 39.4801 996.461 45.8805 L1023.03 45.84 Z\" fill=\"#000000\" fill-rule=\"nonzero\" fill-opacity=\"1\" /><path clip-path=\"url(#clip630)\" d=\"M1080.44 45.1919 L1080.44 72.576 L1072.98 72.576 L1072.98 45.4349 Q1072.98 38.994 1070.47 35.7938 Q1067.96 32.5936 1062.94 32.5936 Q1056.9 32.5936 1053.42 36.4419 Q1049.93 40.2903 1049.93 46.9338 L1049.93 72.576 L1042.44 72.576 L1042.44 27.2059 L1049.93 27.2059 L1049.93 34.2544 Q1052.61 30.163 1056.21 28.1376 Q1059.86 26.1121 1064.6 26.1121 Q1072.42 26.1121 1076.43 30.9732 Q1080.44 35.7938 1080.44 45.1919 Z\" fill=\"#000000\" fill-rule=\"nonzero\" fill-opacity=\"1\" /><path clip-path=\"url(#clip630)\" d=\"M1127.95 28.9478 L1127.95 35.9153 Q1124.79 34.1734 1121.59 33.3227 Q1118.43 32.4315 1115.19 32.4315 Q1107.94 32.4315 1103.93 37.0496 Q1099.92 41.6271 1099.92 49.9314 Q1099.92 58.2358 1103.93 62.8538 Q1107.94 67.4314 1115.19 67.4314 Q1118.43 67.4314 1121.59 66.5807 Q1124.79 65.6895 1127.95 63.9476 L1127.95 70.8341 Q1124.83 72.2924 1121.47 73.0216 Q1118.15 73.7508 1114.38 73.7508 Q1104.13 73.7508 1098.1 67.3098 Q1092.06 60.8689 1092.06 49.9314 Q1092.06 38.832 1098.14 32.472 Q1104.26 26.1121 1114.87 26.1121 Q1118.31 26.1121 1121.59 26.8413 Q1124.87 27.5299 1127.95 28.9478 Z\" fill=\"#000000\" fill-rule=\"nonzero\" fill-opacity=\"1\" /><path clip-path=\"url(#clip630)\" d=\"M1179.72 48.0275 L1179.72 51.6733 L1145.45 51.6733 Q1145.94 59.3701 1150.07 63.421 Q1154.24 67.4314 1161.66 67.4314 Q1165.95 67.4314 1169.96 66.3781 Q1174.01 65.3249 1177.98 63.2184 L1177.98 70.267 Q1173.97 71.9684 1169.76 72.8596 Q1165.55 73.7508 1161.21 73.7508 Q1150.35 73.7508 1143.99 67.4314 Q1137.68 61.1119 1137.68 50.3365 Q1137.68 39.1965 1143.67 32.6746 Q1149.71 26.1121 1159.91 26.1121 Q1169.07 26.1121 1174.38 32.0264 Q1179.72 37.9003 1179.72 48.0275 M1172.27 45.84 Q1172.19 39.7232 1168.83 36.0774 Q1165.51 32.4315 1160 32.4315 Q1153.76 32.4315 1149.99 35.9558 Q1146.26 39.4801 1145.7 45.8805 L1172.27 45.84 Z\" fill=\"#000000\" fill-rule=\"nonzero\" fill-opacity=\"1\" /><path clip-path=\"url(#clip630)\" d=\"M1238.87 20.1573 L1227.77 50.2555 L1250.01 50.2555 L1238.87 20.1573 M1234.25 12.096 L1243.53 12.096 L1266.58 72.576 L1258.07 72.576 L1252.56 57.061 L1225.3 57.061 L1219.79 72.576 L1211.16 72.576 L1234.25 12.096 Z\" fill=\"#000000\" fill-rule=\"nonzero\" fill-opacity=\"1\" /><path clip-path=\"url(#clip630)\" d=\"M1282.29 65.7705 L1282.29 89.8329 L1274.8 89.8329 L1274.8 27.2059 L1282.29 27.2059 L1282.29 34.0924 Q1284.64 30.0415 1288.21 28.0971 Q1291.81 26.1121 1296.79 26.1121 Q1305.06 26.1121 1310.2 32.6746 Q1315.39 39.2371 1315.39 49.9314 Q1315.39 60.6258 1310.2 67.1883 Q1305.06 73.7508 1296.79 73.7508 Q1291.81 73.7508 1288.21 71.8063 Q1284.64 69.8214 1282.29 65.7705 M1307.65 49.9314 Q1307.65 41.7081 1304.25 37.0496 Q1300.89 32.3505 1294.97 32.3505 Q1289.06 32.3505 1285.65 37.0496 Q1282.29 41.7081 1282.29 49.9314 Q1282.29 58.1548 1285.65 62.8538 Q1289.06 67.5124 1294.97 67.5124 Q1300.89 67.5124 1304.25 62.8538 Q1307.65 58.1548 1307.65 49.9314 Z\" fill=\"#000000\" fill-rule=\"nonzero\" fill-opacity=\"1\" /><path clip-path=\"url(#clip630)\" d=\"M1334.95 65.7705 L1334.95 89.8329 L1327.46 89.8329 L1327.46 27.2059 L1334.95 27.2059 L1334.95 34.0924 Q1337.3 30.0415 1340.87 28.0971 Q1344.47 26.1121 1349.46 26.1121 Q1357.72 26.1121 1362.87 32.6746 Q1368.05 39.2371 1368.05 49.9314 Q1368.05 60.6258 1362.87 67.1883 Q1357.72 73.7508 1349.46 73.7508 Q1344.47 73.7508 1340.87 71.8063 Q1337.3 69.8214 1334.95 65.7705 M1360.31 49.9314 Q1360.31 41.7081 1356.91 37.0496 Q1353.55 32.3505 1347.63 32.3505 Q1341.72 32.3505 1338.32 37.0496 Q1334.95 41.7081 1334.95 49.9314 Q1334.95 58.1548 1338.32 62.8538 Q1341.72 67.5124 1347.63 67.5124 Q1353.55 67.5124 1356.91 62.8538 Q1360.31 58.1548 1360.31 49.9314 Z\" fill=\"#000000\" fill-rule=\"nonzero\" fill-opacity=\"1\" /><path clip-path=\"url(#clip630)\" d=\"M1406.7 34.1734 Q1405.44 33.4443 1403.94 33.1202 Q1402.48 32.7556 1400.7 32.7556 Q1394.38 32.7556 1390.98 36.8875 Q1387.62 40.9789 1387.62 48.6757 L1387.62 72.576 L1380.12 72.576 L1380.12 27.2059 L1387.62 27.2059 L1387.62 34.2544 Q1389.97 30.1225 1393.73 28.1376 Q1397.5 26.1121 1402.89 26.1121 Q1403.66 26.1121 1404.59 26.2337 Q1405.52 26.3147 1406.66 26.5172 L1406.7 34.1734 Z\" fill=\"#000000\" fill-rule=\"nonzero\" fill-opacity=\"1\" /><path clip-path=\"url(#clip630)\" d=\"M1430.27 32.4315 Q1424.28 32.4315 1420.79 37.1306 Q1417.31 41.7891 1417.31 49.9314 Q1417.31 58.0738 1420.75 62.7728 Q1424.24 67.4314 1430.27 67.4314 Q1436.23 67.4314 1439.71 62.7323 Q1443.19 58.0333 1443.19 49.9314 Q1443.19 41.8701 1439.71 37.1711 Q1436.23 32.4315 1430.27 32.4315 M1430.27 26.1121 Q1439.99 26.1121 1445.54 32.4315 Q1451.09 38.7509 1451.09 49.9314 Q1451.09 61.0714 1445.54 67.4314 Q1439.99 73.7508 1430.27 73.7508 Q1420.51 73.7508 1414.96 67.4314 Q1409.45 61.0714 1409.45 49.9314 Q1409.45 38.7509 1414.96 32.4315 Q1420.51 26.1121 1430.27 26.1121 Z\" fill=\"#000000\" fill-rule=\"nonzero\" fill-opacity=\"1\" /><path clip-path=\"url(#clip630)\" d=\"M1498.61 27.2059 L1482.2 49.2833 L1499.46 72.576 L1490.67 72.576 L1477.47 54.752 L1464.26 72.576 L1455.47 72.576 L1473.09 48.8377 L1456.97 27.2059 L1465.76 27.2059 L1477.79 43.369 L1489.82 27.2059 L1498.61 27.2059 Z\" fill=\"#000000\" fill-rule=\"nonzero\" fill-opacity=\"1\" /><path clip-path=\"url(#clip630)\" d=\"M1509.99 27.2059 L1517.45 27.2059 L1517.45 72.576 L1509.99 72.576 L1509.99 27.2059 M1509.99 9.54393 L1517.45 9.54393 L1517.45 18.9825 L1509.99 18.9825 L1509.99 9.54393 Z\" fill=\"#000000\" fill-rule=\"nonzero\" fill-opacity=\"1\" /><path clip-path=\"url(#clip630)\" d=\"M1568.37 35.9153 Q1571.16 30.8922 1575.05 28.5022 Q1578.94 26.1121 1584.21 26.1121 Q1591.3 26.1121 1595.14 31.0947 Q1598.99 36.0368 1598.99 45.1919 L1598.99 72.576 L1591.5 72.576 L1591.5 45.4349 Q1591.5 38.913 1589.19 35.7533 Q1586.88 32.5936 1582.14 32.5936 Q1576.35 32.5936 1572.99 36.4419 Q1569.62 40.2903 1569.62 46.9338 L1569.62 72.576 L1562.13 72.576 L1562.13 45.4349 Q1562.13 38.8725 1559.82 35.7533 Q1557.51 32.5936 1552.69 32.5936 Q1546.98 32.5936 1543.62 36.4824 Q1540.25 40.3308 1540.25 46.9338 L1540.25 72.576 L1532.76 72.576 L1532.76 27.2059 L1540.25 27.2059 L1540.25 34.2544 Q1542.81 30.082 1546.37 28.0971 Q1549.94 26.1121 1554.84 26.1121 Q1559.78 26.1121 1563.22 28.6237 Q1566.71 31.1352 1568.37 35.9153 Z\" fill=\"#000000\" fill-rule=\"nonzero\" fill-opacity=\"1\" /><path clip-path=\"url(#clip630)\" d=\"M1634.48 49.7694 Q1625.44 49.7694 1621.96 51.8354 Q1618.48 53.9013 1618.48 58.8839 Q1618.48 62.8538 1621.07 65.2034 Q1623.7 67.5124 1628.2 67.5124 Q1634.4 67.5124 1638.12 63.1374 Q1641.89 58.7219 1641.89 51.4303 L1641.89 49.7694 L1634.48 49.7694 M1649.35 46.6907 L1649.35 72.576 L1641.89 72.576 L1641.89 65.6895 Q1639.34 69.8214 1635.53 71.8063 Q1631.72 73.7508 1626.21 73.7508 Q1619.25 73.7508 1615.12 69.8619 Q1611.02 65.9325 1611.02 59.3701 Q1611.02 51.7138 1616.13 47.825 Q1621.27 43.9361 1631.44 43.9361 L1641.89 43.9361 L1641.89 43.2069 Q1641.89 38.0623 1638.49 35.2672 Q1635.13 32.4315 1629.01 32.4315 Q1625.12 32.4315 1621.43 33.3632 Q1617.75 34.295 1614.35 36.1584 L1614.35 29.2718 Q1618.44 27.692 1622.29 26.9223 Q1626.13 26.1121 1629.78 26.1121 Q1639.62 26.1121 1644.48 31.2163 Q1649.35 36.3204 1649.35 46.6907 Z\" fill=\"#000000\" fill-rule=\"nonzero\" fill-opacity=\"1\" /><path clip-path=\"url(#clip630)\" d=\"M1672.07 14.324 L1672.07 27.2059 L1687.42 27.2059 L1687.42 32.9987 L1672.07 32.9987 L1672.07 57.6282 Q1672.07 63.1779 1673.57 64.7578 Q1675.11 66.3376 1679.77 66.3376 L1687.42 66.3376 L1687.42 72.576 L1679.77 72.576 Q1671.14 72.576 1667.86 69.3758 Q1664.58 66.1351 1664.58 57.6282 L1664.58 32.9987 L1659.11 32.9987 L1659.11 27.2059 L1664.58 27.2059 L1664.58 14.324 L1672.07 14.324 Z\" fill=\"#000000\" fill-rule=\"nonzero\" fill-opacity=\"1\" /><path clip-path=\"url(#clip630)\" d=\"M1697.23 27.2059 L1704.68 27.2059 L1704.68 72.576 L1697.23 72.576 L1697.23 27.2059 M1697.23 9.54393 L1704.68 9.54393 L1704.68 18.9825 L1697.23 18.9825 L1697.23 9.54393 Z\" fill=\"#000000\" fill-rule=\"nonzero\" fill-opacity=\"1\" /><path clip-path=\"url(#clip630)\" d=\"M1737.86 32.4315 Q1731.86 32.4315 1728.38 37.1306 Q1724.89 41.7891 1724.89 49.9314 Q1724.89 58.0738 1728.34 62.7728 Q1731.82 67.4314 1737.86 67.4314 Q1743.81 67.4314 1747.3 62.7323 Q1750.78 58.0333 1750.78 49.9314 Q1750.78 41.8701 1747.3 37.1711 Q1743.81 32.4315 1737.86 32.4315 M1737.86 26.1121 Q1747.58 26.1121 1753.13 32.4315 Q1758.68 38.7509 1758.68 49.9314 Q1758.68 61.0714 1753.13 67.4314 Q1747.58 73.7508 1737.86 73.7508 Q1728.09 73.7508 1722.55 67.4314 Q1717.04 61.0714 1717.04 49.9314 Q1717.04 38.7509 1722.55 32.4315 Q1728.09 26.1121 1737.86 26.1121 Z\" fill=\"#000000\" fill-rule=\"nonzero\" fill-opacity=\"1\" /><path clip-path=\"url(#clip630)\" d=\"M1808.75 45.1919 L1808.75 72.576 L1801.29 72.576 L1801.29 45.4349 Q1801.29 38.994 1798.78 35.7938 Q1796.27 32.5936 1791.25 32.5936 Q1785.21 32.5936 1781.73 36.4419 Q1778.24 40.2903 1778.24 46.9338 L1778.24 72.576 L1770.75 72.576 L1770.75 27.2059 L1778.24 27.2059 L1778.24 34.2544 Q1780.92 30.163 1784.52 28.1376 Q1788.17 26.1121 1792.91 26.1121 Q1800.73 26.1121 1804.74 30.9732 Q1808.75 35.7938 1808.75 45.1919 Z\" fill=\"#000000\" fill-rule=\"nonzero\" fill-opacity=\"1\" /><path clip-path=\"url(#clip630)\" d=\"M1872.96 9.54393 L1872.96 15.7418 L1865.83 15.7418 Q1861.82 15.7418 1860.24 17.3622 Q1858.7 18.9825 1858.7 23.1955 L1858.7 27.2059 L1870.97 27.2059 L1870.97 32.9987 L1858.7 32.9987 L1858.7 72.576 L1851.2 72.576 L1851.2 32.9987 L1844.07 32.9987 L1844.07 27.2059 L1851.2 27.2059 L1851.2 24.0462 Q1851.2 16.471 1854.73 13.0277 Q1858.25 9.54393 1865.91 9.54393 L1872.96 9.54393 Z\" fill=\"#000000\" fill-rule=\"nonzero\" fill-opacity=\"1\" /><path clip-path=\"url(#clip630)\" d=\"M1896.77 32.4315 Q1890.78 32.4315 1887.3 37.1306 Q1883.81 41.7891 1883.81 49.9314 Q1883.81 58.0738 1887.25 62.7728 Q1890.74 67.4314 1896.77 67.4314 Q1902.73 67.4314 1906.21 62.7323 Q1909.7 58.0333 1909.7 49.9314 Q1909.7 41.8701 1906.21 37.1711 Q1902.73 32.4315 1896.77 32.4315 M1896.77 26.1121 Q1906.5 26.1121 1912.05 32.4315 Q1917.6 38.7509 1917.6 49.9314 Q1917.6 61.0714 1912.05 67.4314 Q1906.5 73.7508 1896.77 73.7508 Q1887.01 73.7508 1881.46 67.4314 Q1875.95 61.0714 1875.95 49.9314 Q1875.95 38.7509 1881.46 32.4315 Q1887.01 26.1121 1896.77 26.1121 Z\" fill=\"#000000\" fill-rule=\"nonzero\" fill-opacity=\"1\" /><path clip-path=\"url(#clip630)\" d=\"M1956.24 34.1734 Q1954.99 33.4443 1953.49 33.1202 Q1952.03 32.7556 1950.25 32.7556 Q1943.93 32.7556 1940.52 36.8875 Q1937.16 40.9789 1937.16 48.6757 L1937.16 72.576 L1929.67 72.576 L1929.67 27.2059 L1937.16 27.2059 L1937.16 34.2544 Q1939.51 30.1225 1943.28 28.1376 Q1947.05 26.1121 1952.43 26.1121 Q1953.2 26.1121 1954.14 26.2337 Q1955.07 26.3147 1956.2 26.5172 L1956.24 34.1734 Z\" fill=\"#000000\" fill-rule=\"nonzero\" fill-opacity=\"1\" /><path clip-path=\"url(#clip630)\" d=\"M1989.82 12.096 L1998.05 12.096 L1998.05 48.8377 Q1998.05 58.5599 2001.57 62.8538 Q2005.1 67.1073 2012.99 67.1073 Q2020.85 67.1073 2024.38 62.8538 Q2027.9 58.5599 2027.9 48.8377 L2027.9 12.096 L2036.13 12.096 L2036.13 49.8504 Q2036.13 61.6791 2030.25 67.7149 Q2024.42 73.7508 2012.99 73.7508 Q2001.53 73.7508 1995.66 67.7149 Q1989.82 61.6791 1989.82 49.8504 L1989.82 12.096 Z\" fill=\"#000000\" fill-rule=\"nonzero\" fill-opacity=\"1\" /><path clip-path=\"url(#clip630)\" d=\"M2058.2 12.096 L2058.2 34.5785 L2051.32 34.5785 L2051.32 12.096 L2058.2 12.096 Z\" fill=\"#000000\" fill-rule=\"nonzero\" fill-opacity=\"1\" /><path clip-path=\"url(#clip630)\" d=\"M2081.01 12.096 L2081.01 34.5785 L2074.12 34.5785 L2074.12 12.096 L2081.01 12.096 Z\" fill=\"#000000\" fill-rule=\"nonzero\" fill-opacity=\"1\" /><circle clip-path=\"url(#clip632)\" cx=\"2293.31\" cy=\"159.909\" r=\"14.4\" fill=\"#009af9\" fill-rule=\"evenodd\" fill-opacity=\"1\" stroke=\"#000000\" stroke-opacity=\"1\" stroke-width=\"3.2\"/>\n",
       "<circle clip-path=\"url(#clip632)\" cx=\"2128.2\" cy=\"355.092\" r=\"14.4\" fill=\"#009af9\" fill-rule=\"evenodd\" fill-opacity=\"1\" stroke=\"#000000\" stroke-opacity=\"1\" stroke-width=\"3.2\"/>\n",
       "<circle clip-path=\"url(#clip632)\" cx=\"1963.09\" cy=\"550.418\" r=\"14.4\" fill=\"#009af9\" fill-rule=\"evenodd\" fill-opacity=\"1\" stroke=\"#000000\" stroke-opacity=\"1\" stroke-width=\"3.2\"/>\n",
       "<circle clip-path=\"url(#clip632)\" cx=\"1797.97\" cy=\"745.789\" r=\"14.4\" fill=\"#009af9\" fill-rule=\"evenodd\" fill-opacity=\"1\" stroke=\"#000000\" stroke-opacity=\"1\" stroke-width=\"3.2\"/>\n",
       "<circle clip-path=\"url(#clip632)\" cx=\"1632.86\" cy=\"941.209\" r=\"14.4\" fill=\"#009af9\" fill-rule=\"evenodd\" fill-opacity=\"1\" stroke=\"#000000\" stroke-opacity=\"1\" stroke-width=\"3.2\"/>\n",
       "<circle clip-path=\"url(#clip632)\" cx=\"1467.74\" cy=\"1137.76\" r=\"14.4\" fill=\"#009af9\" fill-rule=\"evenodd\" fill-opacity=\"1\" stroke=\"#000000\" stroke-opacity=\"1\" stroke-width=\"3.2\"/>\n",
       "<circle clip-path=\"url(#clip632)\" cx=\"1302.63\" cy=\"1350.38\" r=\"14.4\" fill=\"#009af9\" fill-rule=\"evenodd\" fill-opacity=\"1\" stroke=\"#000000\" stroke-opacity=\"1\" stroke-width=\"3.2\"/>\n",
       "<circle clip-path=\"url(#clip632)\" cx=\"1137.51\" cy=\"1374.46\" r=\"14.4\" fill=\"#009af9\" fill-rule=\"evenodd\" fill-opacity=\"1\" stroke=\"#000000\" stroke-opacity=\"1\" stroke-width=\"3.2\"/>\n",
       "<circle clip-path=\"url(#clip632)\" cx=\"972.399\" cy=\"1207.27\" r=\"14.4\" fill=\"#009af9\" fill-rule=\"evenodd\" fill-opacity=\"1\" stroke=\"#000000\" stroke-opacity=\"1\" stroke-width=\"3.2\"/>\n",
       "<circle clip-path=\"url(#clip632)\" cx=\"807.285\" cy=\"1161.42\" r=\"14.4\" fill=\"#009af9\" fill-rule=\"evenodd\" fill-opacity=\"1\" stroke=\"#000000\" stroke-opacity=\"1\" stroke-width=\"3.2\"/>\n",
       "<circle clip-path=\"url(#clip632)\" cx=\"642.171\" cy=\"1036.08\" r=\"14.4\" fill=\"#009af9\" fill-rule=\"evenodd\" fill-opacity=\"1\" stroke=\"#000000\" stroke-opacity=\"1\" stroke-width=\"3.2\"/>\n",
       "<circle clip-path=\"url(#clip632)\" cx=\"477.056\" cy=\"1009.33\" r=\"14.4\" fill=\"#009af9\" fill-rule=\"evenodd\" fill-opacity=\"1\" stroke=\"#000000\" stroke-opacity=\"1\" stroke-width=\"3.2\"/>\n",
       "<circle clip-path=\"url(#clip632)\" cx=\"311.942\" cy=\"800.94\" r=\"14.4\" fill=\"#009af9\" fill-rule=\"evenodd\" fill-opacity=\"1\" stroke=\"#000000\" stroke-opacity=\"1\" stroke-width=\"3.2\"/>\n",
       "<polyline clip-path=\"url(#clip632)\" style=\"stroke:#e26f46; stroke-linecap:round; stroke-linejoin:round; stroke-width:4; stroke-opacity:1; fill:none\" points=\"2293.31,159.909 2128.2,355.092 1963.09,550.418 1797.97,745.789 1632.86,941.209 1467.74,1137.76 1302.63,1350.38 1137.51,1374.46 972.399,1207.27 807.285,1161.42 642.171,1036.08 477.056,1009.33 311.942,800.94 \"/>\n",
       "</svg>\n"
      ],
      "text/html": [
       "<?xml version=\"1.0\" encoding=\"utf-8\"?>\n",
       "<svg xmlns=\"http://www.w3.org/2000/svg\" xmlns:xlink=\"http://www.w3.org/1999/xlink\" width=\"600\" height=\"400\" viewBox=\"0 0 2400 1600\">\n",
       "<defs>\n",
       "  <clipPath id=\"clip680\">\n",
       "    <rect x=\"0\" y=\"0\" width=\"2400\" height=\"1600\"/>\n",
       "  </clipPath>\n",
       "</defs>\n",
       "<path clip-path=\"url(#clip680)\" d=\"M0 1600 L2400 1600 L2400 0 L0 0  Z\" fill=\"#ffffff\" fill-rule=\"evenodd\" fill-opacity=\"1\"/>\n",
       "<defs>\n",
       "  <clipPath id=\"clip681\">\n",
       "    <rect x=\"480\" y=\"0\" width=\"1681\" height=\"1600\"/>\n",
       "  </clipPath>\n",
       "</defs>\n",
       "<path clip-path=\"url(#clip680)\" d=\"M252.501 1410.9 L2352.76 1410.9 L2352.76 123.472 L252.501 123.472  Z\" fill=\"#ffffff\" fill-rule=\"evenodd\" fill-opacity=\"1\"/>\n",
       "<defs>\n",
       "  <clipPath id=\"clip682\">\n",
       "    <rect x=\"252\" y=\"123\" width=\"2101\" height=\"1288\"/>\n",
       "  </clipPath>\n",
       "</defs>\n",
       "<polyline clip-path=\"url(#clip682)\" style=\"stroke:#000000; stroke-linecap:round; stroke-linejoin:round; stroke-width:2; stroke-opacity:0.1; fill:none\" points=\"311.942,1410.9 311.942,123.472 \"/>\n",
       "<polyline clip-path=\"url(#clip682)\" style=\"stroke:#000000; stroke-linecap:round; stroke-linejoin:round; stroke-width:2; stroke-opacity:0.1; fill:none\" points=\"1632.86,1410.9 1632.86,123.472 \"/>\n",
       "<polyline clip-path=\"url(#clip682)\" style=\"stroke:#000000; stroke-linecap:round; stroke-linejoin:round; stroke-width:2; stroke-opacity:0.1; fill:none\" points=\"252.501,1099.56 2352.76,1099.56 \"/>\n",
       "<polyline clip-path=\"url(#clip682)\" style=\"stroke:#000000; stroke-linecap:round; stroke-linejoin:round; stroke-width:2; stroke-opacity:0.1; fill:none\" points=\"252.501,513.389 2352.76,513.389 \"/>\n",
       "<polyline clip-path=\"url(#clip680)\" style=\"stroke:#000000; stroke-linecap:round; stroke-linejoin:round; stroke-width:4; stroke-opacity:1; fill:none\" points=\"252.501,1410.9 2352.76,1410.9 \"/>\n",
       "<polyline clip-path=\"url(#clip680)\" style=\"stroke:#000000; stroke-linecap:round; stroke-linejoin:round; stroke-width:4; stroke-opacity:1; fill:none\" points=\"311.942,1410.9 311.942,1392 \"/>\n",
       "<polyline clip-path=\"url(#clip680)\" style=\"stroke:#000000; stroke-linecap:round; stroke-linejoin:round; stroke-width:4; stroke-opacity:1; fill:none\" points=\"1632.86,1410.9 1632.86,1392 \"/>\n",
       "<path clip-path=\"url(#clip680)\" d=\"M261.361 1485.02 L269 1485.02 L269 1458.66 L260.69 1460.32 L260.69 1456.06 L268.954 1454.4 L273.63 1454.4 L273.63 1485.02 L281.269 1485.02 L281.269 1488.96 L261.361 1488.96 L261.361 1485.02 Z\" fill=\"#000000\" fill-rule=\"nonzero\" fill-opacity=\"1\" /><path clip-path=\"url(#clip680)\" d=\"M300.713 1457.48 Q297.102 1457.48 295.273 1461.04 Q293.468 1464.58 293.468 1471.71 Q293.468 1478.82 295.273 1482.38 Q297.102 1485.92 300.713 1485.92 Q304.347 1485.92 306.153 1482.38 Q307.981 1478.82 307.981 1471.71 Q307.981 1464.58 306.153 1461.04 Q304.347 1457.48 300.713 1457.48 M300.713 1453.77 Q306.523 1453.77 309.579 1458.38 Q312.657 1462.96 312.657 1471.71 Q312.657 1480.44 309.579 1485.04 Q306.523 1489.63 300.713 1489.63 Q294.903 1489.63 291.824 1485.04 Q288.768 1480.44 288.768 1471.71 Q288.768 1462.96 291.824 1458.38 Q294.903 1453.77 300.713 1453.77 Z\" fill=\"#000000\" fill-rule=\"nonzero\" fill-opacity=\"1\" /><path clip-path=\"url(#clip680)\" d=\"M312.657 1447.87 L336.769 1447.87 L336.769 1451.07 L312.657 1451.07 L312.657 1447.87 Z\" fill=\"#000000\" fill-rule=\"nonzero\" fill-opacity=\"1\" /><path clip-path=\"url(#clip680)\" d=\"M355.407 1436.78 L345.815 1451.77 L355.407 1451.77 L355.407 1436.78 M354.41 1433.47 L359.188 1433.47 L359.188 1451.77 L363.194 1451.77 L363.194 1454.93 L359.188 1454.93 L359.188 1461.55 L355.407 1461.55 L355.407 1454.93 L342.731 1454.93 L342.731 1451.26 L354.41 1433.47 Z\" fill=\"#000000\" fill-rule=\"nonzero\" fill-opacity=\"1\" /><path clip-path=\"url(#clip680)\" d=\"M1583.12 1485.02 L1590.76 1485.02 L1590.76 1458.66 L1582.45 1460.32 L1582.45 1456.06 L1590.72 1454.4 L1595.39 1454.4 L1595.39 1485.02 L1603.03 1485.02 L1603.03 1488.96 L1583.12 1488.96 L1583.12 1485.02 Z\" fill=\"#000000\" fill-rule=\"nonzero\" fill-opacity=\"1\" /><path clip-path=\"url(#clip680)\" d=\"M1622.47 1457.48 Q1618.86 1457.48 1617.03 1461.04 Q1615.23 1464.58 1615.23 1471.71 Q1615.23 1478.82 1617.03 1482.38 Q1618.86 1485.92 1622.47 1485.92 Q1626.11 1485.92 1627.91 1482.38 Q1629.74 1478.82 1629.74 1471.71 Q1629.74 1464.58 1627.91 1461.04 Q1626.11 1457.48 1622.47 1457.48 M1622.47 1453.77 Q1628.28 1453.77 1631.34 1458.38 Q1634.42 1462.96 1634.42 1471.71 Q1634.42 1480.44 1631.34 1485.04 Q1628.28 1489.63 1622.47 1489.63 Q1616.66 1489.63 1613.59 1485.04 Q1610.53 1480.44 1610.53 1471.71 Q1610.53 1462.96 1613.59 1458.38 Q1616.66 1453.77 1622.47 1453.77 Z\" fill=\"#000000\" fill-rule=\"nonzero\" fill-opacity=\"1\" /><path clip-path=\"url(#clip680)\" d=\"M1634.42 1447.87 L1658.53 1447.87 L1658.53 1451.07 L1634.42 1451.07 L1634.42 1447.87 Z\" fill=\"#000000\" fill-rule=\"nonzero\" fill-opacity=\"1\" /><path clip-path=\"url(#clip680)\" d=\"M1670 1458.35 L1683.26 1458.35 L1683.26 1461.55 L1665.43 1461.55 L1665.43 1458.35 Q1667.6 1456.11 1671.32 1452.35 Q1675.06 1448.57 1676.02 1447.48 Q1677.85 1445.43 1678.56 1444.02 Q1679.29 1442.59 1679.29 1441.22 Q1679.29 1438.98 1677.71 1437.57 Q1676.15 1436.16 1673.63 1436.16 Q1671.85 1436.16 1669.85 1436.78 Q1667.88 1437.4 1665.62 1438.66 L1665.62 1434.82 Q1667.92 1433.9 1669.91 1433.43 Q1671.9 1432.96 1673.56 1432.96 Q1677.92 1432.96 1680.52 1435.14 Q1683.11 1437.32 1683.11 1440.97 Q1683.11 1442.7 1682.45 1444.26 Q1681.81 1445.8 1680.1 1447.91 Q1679.63 1448.46 1677.11 1451.07 Q1674.59 1453.67 1670 1458.35 Z\" fill=\"#000000\" fill-rule=\"nonzero\" fill-opacity=\"1\" /><path clip-path=\"url(#clip680)\" d=\"M1317.56 1552.67 L1317.56 1574.19 L1311.7 1574.19 L1311.7 1552.86 Q1311.7 1547.8 1309.73 1545.29 Q1307.75 1542.77 1303.81 1542.77 Q1299.06 1542.77 1296.33 1545.79 Q1293.59 1548.82 1293.59 1554.04 L1293.59 1574.19 L1287.7 1574.19 L1287.7 1524.66 L1293.59 1524.66 L1293.59 1544.08 Q1295.69 1540.86 1298.52 1539.27 Q1301.39 1537.68 1305.11 1537.68 Q1311.25 1537.68 1314.4 1541.5 Q1317.56 1545.29 1317.56 1552.67 Z\" fill=\"#000000\" fill-rule=\"nonzero\" fill-opacity=\"1\" /><polyline clip-path=\"url(#clip680)\" style=\"stroke:#000000; stroke-linecap:round; stroke-linejoin:round; stroke-width:4; stroke-opacity:1; fill:none\" points=\"252.501,1410.9 252.501,123.472 \"/>\n",
       "<polyline clip-path=\"url(#clip680)\" style=\"stroke:#000000; stroke-linecap:round; stroke-linejoin:round; stroke-width:4; stroke-opacity:1; fill:none\" points=\"252.501,1099.56 271.398,1099.56 \"/>\n",
       "<polyline clip-path=\"url(#clip680)\" style=\"stroke:#000000; stroke-linecap:round; stroke-linejoin:round; stroke-width:4; stroke-opacity:1; fill:none\" points=\"252.501,513.389 271.398,513.389 \"/>\n",
       "<path clip-path=\"url(#clip680)\" d=\"M115.214 1119.35 L122.852 1119.35 L122.852 1092.99 L114.542 1094.65 L114.542 1090.4 L122.806 1088.73 L127.482 1088.73 L127.482 1119.35 L135.121 1119.35 L135.121 1123.29 L115.214 1123.29 L115.214 1119.35 Z\" fill=\"#000000\" fill-rule=\"nonzero\" fill-opacity=\"1\" /><path clip-path=\"url(#clip680)\" d=\"M154.565 1091.81 Q150.954 1091.81 149.125 1095.37 Q147.32 1098.91 147.32 1106.04 Q147.32 1113.15 149.125 1116.71 Q150.954 1120.26 154.565 1120.26 Q158.199 1120.26 160.005 1116.71 Q161.834 1113.15 161.834 1106.04 Q161.834 1098.91 160.005 1095.37 Q158.199 1091.81 154.565 1091.81 M154.565 1088.1 Q160.375 1088.1 163.431 1092.71 Q166.51 1097.29 166.51 1106.04 Q166.51 1114.77 163.431 1119.38 Q160.375 1123.96 154.565 1123.96 Q148.755 1123.96 145.676 1119.38 Q142.621 1114.77 142.621 1106.04 Q142.621 1097.29 145.676 1092.71 Q148.755 1088.1 154.565 1088.1 Z\" fill=\"#000000\" fill-rule=\"nonzero\" fill-opacity=\"1\" /><path clip-path=\"url(#clip680)\" d=\"M166.51 1082.21 L190.621 1082.21 L190.621 1085.4 L166.51 1085.4 L166.51 1082.21 Z\" fill=\"#000000\" fill-rule=\"nonzero\" fill-opacity=\"1\" /><path clip-path=\"url(#clip680)\" d=\"M198.934 1095.3 L198.934 1091.83 Q200.364 1092.51 201.831 1092.87 Q203.298 1093.23 204.708 1093.23 Q208.47 1093.23 210.445 1090.71 Q212.438 1088.17 212.72 1083.01 Q211.629 1084.63 209.956 1085.5 Q208.282 1086.36 206.25 1086.36 Q202.037 1086.36 199.574 1083.82 Q197.129 1081.26 197.129 1076.84 Q197.129 1072.52 199.686 1069.9 Q202.244 1067.29 206.495 1067.29 Q211.366 1067.29 213.924 1071.03 Q216.501 1074.76 216.501 1081.87 Q216.501 1088.51 213.341 1092.47 Q210.2 1096.42 204.877 1096.42 Q203.448 1096.42 201.981 1096.14 Q200.514 1095.86 198.934 1095.3 M206.495 1083.39 Q209.053 1083.39 210.539 1081.64 Q212.043 1079.89 212.043 1076.84 Q212.043 1073.82 210.539 1072.07 Q209.053 1070.3 206.495 1070.3 Q203.937 1070.3 202.432 1072.07 Q200.947 1073.82 200.947 1076.84 Q200.947 1079.89 202.432 1081.64 Q203.937 1083.39 206.495 1083.39 Z\" fill=\"#000000\" fill-rule=\"nonzero\" fill-opacity=\"1\" /><path clip-path=\"url(#clip680)\" d=\"M114.931 533.181 L122.57 533.181 L122.57 506.816 L114.26 508.482 L114.26 504.223 L122.524 502.556 L127.2 502.556 L127.2 533.181 L134.839 533.181 L134.839 537.116 L114.931 537.116 L114.931 533.181 Z\" fill=\"#000000\" fill-rule=\"nonzero\" fill-opacity=\"1\" /><path clip-path=\"url(#clip680)\" d=\"M154.283 505.635 Q150.672 505.635 148.843 509.2 Q147.038 512.741 147.038 519.871 Q147.038 526.977 148.843 530.542 Q150.672 534.084 154.283 534.084 Q157.917 534.084 159.723 530.542 Q161.552 526.977 161.552 519.871 Q161.552 512.741 159.723 509.2 Q157.917 505.635 154.283 505.635 M154.283 501.931 Q160.093 501.931 163.149 506.538 Q166.227 511.121 166.227 519.871 Q166.227 528.598 163.149 533.204 Q160.093 537.788 154.283 537.788 Q148.473 537.788 145.394 533.204 Q142.339 528.598 142.339 519.871 Q142.339 511.121 145.394 506.538 Q148.473 501.931 154.283 501.931 Z\" fill=\"#000000\" fill-rule=\"nonzero\" fill-opacity=\"1\" /><path clip-path=\"url(#clip680)\" d=\"M166.227 496.033 L190.339 496.033 L190.339 499.23 L166.227 499.23 L166.227 496.033 Z\" fill=\"#000000\" fill-rule=\"nonzero\" fill-opacity=\"1\" /><path clip-path=\"url(#clip680)\" d=\"M207.134 494.152 Q204.577 494.152 203.072 495.901 Q201.586 497.65 201.586 500.697 Q201.586 503.725 203.072 505.493 Q204.577 507.242 207.134 507.242 Q209.692 507.242 211.178 505.493 Q212.683 503.725 212.683 500.697 Q212.683 497.65 211.178 495.901 Q209.692 494.152 207.134 494.152 M214.676 482.247 L214.676 485.707 Q213.247 485.03 211.78 484.673 Q210.332 484.315 208.902 484.315 Q205.141 484.315 203.147 486.854 Q201.172 489.394 200.89 494.528 Q202 492.892 203.674 492.027 Q205.348 491.143 207.36 491.143 Q211.592 491.143 214.037 493.719 Q216.501 496.277 216.501 500.697 Q216.501 505.023 213.943 507.637 Q211.385 510.251 207.134 510.251 Q202.263 510.251 199.686 506.527 Q197.11 502.785 197.11 495.694 Q197.11 489.036 200.27 485.087 Q203.429 481.118 208.752 481.118 Q210.181 481.118 211.629 481.4 Q213.096 481.682 214.676 482.247 Z\" fill=\"#000000\" fill-rule=\"nonzero\" fill-opacity=\"1\" /><path clip-path=\"url(#clip680)\" d=\"M16.4842 843.43 L16.4842 813.384 L21.895 813.384 L21.895 837 L35.9632 837 L35.9632 814.37 L41.3741 814.37 L41.3741 837 L58.5933 837 L58.5933 812.811 L64.0042 812.811 L64.0042 843.43 L16.4842 843.43 Z\" fill=\"#000000\" fill-rule=\"nonzero\" fill-opacity=\"1\" /><path clip-path=\"url(#clip680)\" d=\"M33.8307 781.841 Q33.2578 782.828 33.0032 784.006 Q32.7167 785.152 32.7167 786.552 Q32.7167 791.517 35.9632 794.191 Q39.1779 796.833 45.2253 796.833 L64.0042 796.833 L64.0042 802.721 L28.3562 802.721 L28.3562 796.833 L33.8944 796.833 Q30.6479 794.987 29.0883 792.027 Q27.4968 789.067 27.4968 784.833 Q27.4968 784.229 27.5923 783.497 Q27.656 782.764 27.8151 781.873 L33.8307 781.841 Z\" fill=\"#000000\" fill-rule=\"nonzero\" fill-opacity=\"1\" /><path clip-path=\"url(#clip680)\" d=\"M33.8307 756.188 Q33.2578 757.174 33.0032 758.352 Q32.7167 759.498 32.7167 760.898 Q32.7167 765.864 35.9632 768.537 Q39.1779 771.179 45.2253 771.179 L64.0042 771.179 L64.0042 777.067 L28.3562 777.067 L28.3562 771.179 L33.8944 771.179 Q30.6479 769.333 29.0883 766.373 Q27.4968 763.413 27.4968 759.18 Q27.4968 758.575 27.5923 757.843 Q27.656 757.111 27.8151 756.219 L33.8307 756.188 Z\" fill=\"#000000\" fill-rule=\"nonzero\" fill-opacity=\"1\" /><path clip-path=\"url(#clip680)\" d=\"M32.4621 737.663 Q32.4621 742.374 36.1542 745.111 Q39.8145 747.849 46.212 747.849 Q52.6095 747.849 56.3017 745.143 Q59.9619 742.406 59.9619 737.663 Q59.9619 732.985 56.2698 730.247 Q52.5777 727.51 46.212 727.51 Q39.8781 727.51 36.186 730.247 Q32.4621 732.985 32.4621 737.663 M27.4968 737.663 Q27.4968 730.025 32.4621 725.664 Q37.4273 721.304 46.212 721.304 Q54.9649 721.304 59.9619 725.664 Q64.9272 730.025 64.9272 737.663 Q64.9272 745.334 59.9619 749.695 Q54.9649 754.023 46.212 754.023 Q37.4273 754.023 32.4621 749.695 Q27.4968 745.334 27.4968 737.663 Z\" fill=\"#000000\" fill-rule=\"nonzero\" fill-opacity=\"1\" /><path clip-path=\"url(#clip680)\" d=\"M33.8307 690.939 Q33.2578 691.926 33.0032 693.103 Q32.7167 694.249 32.7167 695.65 Q32.7167 700.615 35.9632 703.289 Q39.1779 705.93 45.2253 705.93 L64.0042 705.93 L64.0042 711.819 L28.3562 711.819 L28.3562 705.93 L33.8944 705.93 Q30.6479 704.084 29.0883 701.124 Q27.4968 698.164 27.4968 693.931 Q27.4968 693.326 27.5923 692.594 Q27.656 691.862 27.8151 690.971 L33.8307 690.939 Z\" fill=\"#000000\" fill-rule=\"nonzero\" fill-opacity=\"1\" /><path clip-path=\"url(#clip680)\" d=\"M524.247 12.096 L559.004 12.096 L559.004 18.9825 L532.43 18.9825 L532.43 36.8065 L556.411 36.8065 L556.411 43.6931 L532.43 43.6931 L532.43 72.576 L524.247 72.576 L524.247 12.096 Z\" fill=\"#000000\" fill-rule=\"nonzero\" fill-opacity=\"1\" /><path clip-path=\"url(#clip680)\" d=\"M565.607 27.2059 L573.06 27.2059 L573.06 72.576 L565.607 72.576 L565.607 27.2059 M565.607 9.54393 L573.06 9.54393 L573.06 18.9825 L565.607 18.9825 L565.607 9.54393 Z\" fill=\"#000000\" fill-rule=\"nonzero\" fill-opacity=\"1\" /><path clip-path=\"url(#clip680)\" d=\"M626.37 45.1919 L626.37 72.576 L618.917 72.576 L618.917 45.4349 Q618.917 38.994 616.405 35.7938 Q613.894 32.5936 608.87 32.5936 Q602.835 32.5936 599.351 36.4419 Q595.867 40.2903 595.867 46.9338 L595.867 72.576 L588.373 72.576 L588.373 27.2059 L595.867 27.2059 L595.867 34.2544 Q598.541 30.163 602.146 28.1376 Q605.792 26.1121 610.531 26.1121 Q618.35 26.1121 622.36 30.9732 Q626.37 35.7938 626.37 45.1919 Z\" fill=\"#000000\" fill-rule=\"nonzero\" fill-opacity=\"1\" /><path clip-path=\"url(#clip680)\" d=\"M641.237 27.2059 L648.691 27.2059 L648.691 72.576 L641.237 72.576 L641.237 27.2059 M641.237 9.54393 L648.691 9.54393 L648.691 18.9825 L641.237 18.9825 L641.237 9.54393 Z\" fill=\"#000000\" fill-rule=\"nonzero\" fill-opacity=\"1\" /><path clip-path=\"url(#clip680)\" d=\"M671.659 14.324 L671.659 27.2059 L687.012 27.2059 L687.012 32.9987 L671.659 32.9987 L671.659 57.6282 Q671.659 63.1779 673.158 64.7578 Q674.698 66.3376 679.356 66.3376 L687.012 66.3376 L687.012 72.576 L679.356 72.576 Q670.728 72.576 667.446 69.3758 Q664.165 66.1351 664.165 57.6282 L664.165 32.9987 L658.697 32.9987 L658.697 27.2059 L664.165 27.2059 L664.165 14.324 L671.659 14.324 Z\" fill=\"#000000\" fill-rule=\"nonzero\" fill-opacity=\"1\" /><path clip-path=\"url(#clip680)\" d=\"M735.623 48.0275 L735.623 51.6733 L701.353 51.6733 Q701.839 59.3701 705.971 63.421 Q710.143 67.4314 717.556 67.4314 Q721.85 67.4314 725.861 66.3781 Q729.911 65.3249 733.881 63.2184 L733.881 70.267 Q729.871 71.9684 725.658 72.8596 Q721.445 73.7508 717.111 73.7508 Q706.254 73.7508 699.894 67.4314 Q693.575 61.1119 693.575 50.3365 Q693.575 39.1965 699.57 32.6746 Q705.606 26.1121 715.814 26.1121 Q724.969 26.1121 730.276 32.0264 Q735.623 37.9003 735.623 48.0275 M728.17 45.84 Q728.089 39.7232 724.726 36.0774 Q721.405 32.4315 715.895 32.4315 Q709.657 32.4315 705.89 35.9558 Q702.163 39.4801 701.596 45.8805 L728.17 45.84 Z\" fill=\"#000000\" fill-rule=\"nonzero\" fill-opacity=\"1\" /><path clip-path=\"url(#clip680)\" d=\"M804.083 34.0924 L804.083 9.54393 L811.537 9.54393 L811.537 72.576 L804.083 72.576 L804.083 65.7705 Q801.734 69.8214 798.129 71.8063 Q794.564 73.7508 789.541 73.7508 Q781.317 73.7508 776.132 67.1883 Q770.988 60.6258 770.988 49.9314 Q770.988 39.2371 776.132 32.6746 Q781.317 26.1121 789.541 26.1121 Q794.564 26.1121 798.129 28.0971 Q801.734 30.0415 804.083 34.0924 M778.684 49.9314 Q778.684 58.1548 782.047 62.8538 Q785.449 67.5124 791.364 67.5124 Q797.278 67.5124 800.681 62.8538 Q804.083 58.1548 804.083 49.9314 Q804.083 41.7081 800.681 37.0496 Q797.278 32.3505 791.364 32.3505 Q785.449 32.3505 782.047 37.0496 Q778.684 41.7081 778.684 49.9314 Z\" fill=\"#000000\" fill-rule=\"nonzero\" fill-opacity=\"1\" /><path clip-path=\"url(#clip680)\" d=\"M826.89 27.2059 L834.344 27.2059 L834.344 72.576 L826.89 72.576 L826.89 27.2059 M826.89 9.54393 L834.344 9.54393 L834.344 18.9825 L826.89 18.9825 L826.89 9.54393 Z\" fill=\"#000000\" fill-rule=\"nonzero\" fill-opacity=\"1\" /><path clip-path=\"url(#clip680)\" d=\"M872.908 9.54393 L872.908 15.7418 L865.779 15.7418 Q861.768 15.7418 860.189 17.3622 Q858.649 18.9825 858.649 23.1955 L858.649 27.2059 L870.923 27.2059 L870.923 32.9987 L858.649 32.9987 L858.649 72.576 L851.155 72.576 L851.155 32.9987 L844.025 32.9987 L844.025 27.2059 L851.155 27.2059 L851.155 24.0462 Q851.155 16.471 854.679 13.0277 Q858.204 9.54393 865.86 9.54393 L872.908 9.54393 Z\" fill=\"#000000\" fill-rule=\"nonzero\" fill-opacity=\"1\" /><path clip-path=\"url(#clip680)\" d=\"M902.115 9.54393 L902.115 15.7418 L894.986 15.7418 Q890.975 15.7418 889.396 17.3622 Q887.856 18.9825 887.856 23.1955 L887.856 27.2059 L900.13 27.2059 L900.13 32.9987 L887.856 32.9987 L887.856 72.576 L880.362 72.576 L880.362 32.9987 L873.232 32.9987 L873.232 27.2059 L880.362 27.2059 L880.362 24.0462 Q880.362 16.471 883.886 13.0277 Q887.411 9.54393 895.067 9.54393 L902.115 9.54393 Z\" fill=\"#000000\" fill-rule=\"nonzero\" fill-opacity=\"1\" /><path clip-path=\"url(#clip680)\" d=\"M947.161 48.0275 L947.161 51.6733 L912.891 51.6733 Q913.377 59.3701 917.509 63.421 Q921.681 67.4314 929.094 67.4314 Q933.388 67.4314 937.399 66.3781 Q941.45 65.3249 945.42 63.2184 L945.42 70.267 Q941.409 71.9684 937.196 72.8596 Q932.983 73.7508 928.649 73.7508 Q917.792 73.7508 911.432 67.4314 Q905.113 61.1119 905.113 50.3365 Q905.113 39.1965 911.108 32.6746 Q917.144 26.1121 927.353 26.1121 Q936.508 26.1121 941.814 32.0264 Q947.161 37.9003 947.161 48.0275 M939.708 45.84 Q939.627 39.7232 936.264 36.0774 Q932.943 32.4315 927.434 32.4315 Q921.195 32.4315 917.428 35.9558 Q913.701 39.4801 913.134 45.8805 L939.708 45.84 Z\" fill=\"#000000\" fill-rule=\"nonzero\" fill-opacity=\"1\" /><path clip-path=\"url(#clip680)\" d=\"M985.686 34.1734 Q984.43 33.4443 982.931 33.1202 Q981.473 32.7556 979.69 32.7556 Q973.371 32.7556 969.968 36.8875 Q966.606 40.9789 966.606 48.6757 L966.606 72.576 L959.112 72.576 L959.112 27.2059 L966.606 27.2059 L966.606 34.2544 Q968.955 30.1225 972.723 28.1376 Q976.49 26.1121 981.878 26.1121 Q982.647 26.1121 983.579 26.2337 Q984.511 26.3147 985.645 26.5172 L985.686 34.1734 Z\" fill=\"#000000\" fill-rule=\"nonzero\" fill-opacity=\"1\" /><path clip-path=\"url(#clip680)\" d=\"M1030.49 48.0275 L1030.49 51.6733 L996.218 51.6733 Q996.704 59.3701 1000.84 63.421 Q1005.01 67.4314 1012.42 67.4314 Q1016.72 67.4314 1020.73 66.3781 Q1024.78 65.3249 1028.75 63.2184 L1028.75 70.267 Q1024.74 71.9684 1020.52 72.8596 Q1016.31 73.7508 1011.98 73.7508 Q1001.12 73.7508 994.76 67.4314 Q988.44 61.1119 988.44 50.3365 Q988.44 39.1965 994.435 32.6746 Q1000.47 26.1121 1010.68 26.1121 Q1019.83 26.1121 1025.14 32.0264 Q1030.49 37.9003 1030.49 48.0275 M1023.03 45.84 Q1022.95 39.7232 1019.59 36.0774 Q1016.27 32.4315 1010.76 32.4315 Q1004.52 32.4315 1000.75 35.9558 Q997.028 39.4801 996.461 45.8805 L1023.03 45.84 Z\" fill=\"#000000\" fill-rule=\"nonzero\" fill-opacity=\"1\" /><path clip-path=\"url(#clip680)\" d=\"M1080.44 45.1919 L1080.44 72.576 L1072.98 72.576 L1072.98 45.4349 Q1072.98 38.994 1070.47 35.7938 Q1067.96 32.5936 1062.94 32.5936 Q1056.9 32.5936 1053.42 36.4419 Q1049.93 40.2903 1049.93 46.9338 L1049.93 72.576 L1042.44 72.576 L1042.44 27.2059 L1049.93 27.2059 L1049.93 34.2544 Q1052.61 30.163 1056.21 28.1376 Q1059.86 26.1121 1064.6 26.1121 Q1072.42 26.1121 1076.43 30.9732 Q1080.44 35.7938 1080.44 45.1919 Z\" fill=\"#000000\" fill-rule=\"nonzero\" fill-opacity=\"1\" /><path clip-path=\"url(#clip680)\" d=\"M1127.95 28.9478 L1127.95 35.9153 Q1124.79 34.1734 1121.59 33.3227 Q1118.43 32.4315 1115.19 32.4315 Q1107.94 32.4315 1103.93 37.0496 Q1099.92 41.6271 1099.92 49.9314 Q1099.92 58.2358 1103.93 62.8538 Q1107.94 67.4314 1115.19 67.4314 Q1118.43 67.4314 1121.59 66.5807 Q1124.79 65.6895 1127.95 63.9476 L1127.95 70.8341 Q1124.83 72.2924 1121.47 73.0216 Q1118.15 73.7508 1114.38 73.7508 Q1104.13 73.7508 1098.1 67.3098 Q1092.06 60.8689 1092.06 49.9314 Q1092.06 38.832 1098.14 32.472 Q1104.26 26.1121 1114.87 26.1121 Q1118.31 26.1121 1121.59 26.8413 Q1124.87 27.5299 1127.95 28.9478 Z\" fill=\"#000000\" fill-rule=\"nonzero\" fill-opacity=\"1\" /><path clip-path=\"url(#clip680)\" d=\"M1179.72 48.0275 L1179.72 51.6733 L1145.45 51.6733 Q1145.94 59.3701 1150.07 63.421 Q1154.24 67.4314 1161.66 67.4314 Q1165.95 67.4314 1169.96 66.3781 Q1174.01 65.3249 1177.98 63.2184 L1177.98 70.267 Q1173.97 71.9684 1169.76 72.8596 Q1165.55 73.7508 1161.21 73.7508 Q1150.35 73.7508 1143.99 67.4314 Q1137.68 61.1119 1137.68 50.3365 Q1137.68 39.1965 1143.67 32.6746 Q1149.71 26.1121 1159.91 26.1121 Q1169.07 26.1121 1174.38 32.0264 Q1179.72 37.9003 1179.72 48.0275 M1172.27 45.84 Q1172.19 39.7232 1168.83 36.0774 Q1165.51 32.4315 1160 32.4315 Q1153.76 32.4315 1149.99 35.9558 Q1146.26 39.4801 1145.7 45.8805 L1172.27 45.84 Z\" fill=\"#000000\" fill-rule=\"nonzero\" fill-opacity=\"1\" /><path clip-path=\"url(#clip680)\" d=\"M1238.87 20.1573 L1227.77 50.2555 L1250.01 50.2555 L1238.87 20.1573 M1234.25 12.096 L1243.53 12.096 L1266.58 72.576 L1258.07 72.576 L1252.56 57.061 L1225.3 57.061 L1219.79 72.576 L1211.16 72.576 L1234.25 12.096 Z\" fill=\"#000000\" fill-rule=\"nonzero\" fill-opacity=\"1\" /><path clip-path=\"url(#clip680)\" d=\"M1282.29 65.7705 L1282.29 89.8329 L1274.8 89.8329 L1274.8 27.2059 L1282.29 27.2059 L1282.29 34.0924 Q1284.64 30.0415 1288.21 28.0971 Q1291.81 26.1121 1296.79 26.1121 Q1305.06 26.1121 1310.2 32.6746 Q1315.39 39.2371 1315.39 49.9314 Q1315.39 60.6258 1310.2 67.1883 Q1305.06 73.7508 1296.79 73.7508 Q1291.81 73.7508 1288.21 71.8063 Q1284.64 69.8214 1282.29 65.7705 M1307.65 49.9314 Q1307.65 41.7081 1304.25 37.0496 Q1300.89 32.3505 1294.97 32.3505 Q1289.06 32.3505 1285.65 37.0496 Q1282.29 41.7081 1282.29 49.9314 Q1282.29 58.1548 1285.65 62.8538 Q1289.06 67.5124 1294.97 67.5124 Q1300.89 67.5124 1304.25 62.8538 Q1307.65 58.1548 1307.65 49.9314 Z\" fill=\"#000000\" fill-rule=\"nonzero\" fill-opacity=\"1\" /><path clip-path=\"url(#clip680)\" d=\"M1334.95 65.7705 L1334.95 89.8329 L1327.46 89.8329 L1327.46 27.2059 L1334.95 27.2059 L1334.95 34.0924 Q1337.3 30.0415 1340.87 28.0971 Q1344.47 26.1121 1349.46 26.1121 Q1357.72 26.1121 1362.87 32.6746 Q1368.05 39.2371 1368.05 49.9314 Q1368.05 60.6258 1362.87 67.1883 Q1357.72 73.7508 1349.46 73.7508 Q1344.47 73.7508 1340.87 71.8063 Q1337.3 69.8214 1334.95 65.7705 M1360.31 49.9314 Q1360.31 41.7081 1356.91 37.0496 Q1353.55 32.3505 1347.63 32.3505 Q1341.72 32.3505 1338.32 37.0496 Q1334.95 41.7081 1334.95 49.9314 Q1334.95 58.1548 1338.32 62.8538 Q1341.72 67.5124 1347.63 67.5124 Q1353.55 67.5124 1356.91 62.8538 Q1360.31 58.1548 1360.31 49.9314 Z\" fill=\"#000000\" fill-rule=\"nonzero\" fill-opacity=\"1\" /><path clip-path=\"url(#clip680)\" d=\"M1406.7 34.1734 Q1405.44 33.4443 1403.94 33.1202 Q1402.48 32.7556 1400.7 32.7556 Q1394.38 32.7556 1390.98 36.8875 Q1387.62 40.9789 1387.62 48.6757 L1387.62 72.576 L1380.12 72.576 L1380.12 27.2059 L1387.62 27.2059 L1387.62 34.2544 Q1389.97 30.1225 1393.73 28.1376 Q1397.5 26.1121 1402.89 26.1121 Q1403.66 26.1121 1404.59 26.2337 Q1405.52 26.3147 1406.66 26.5172 L1406.7 34.1734 Z\" fill=\"#000000\" fill-rule=\"nonzero\" fill-opacity=\"1\" /><path clip-path=\"url(#clip680)\" d=\"M1430.27 32.4315 Q1424.28 32.4315 1420.79 37.1306 Q1417.31 41.7891 1417.31 49.9314 Q1417.31 58.0738 1420.75 62.7728 Q1424.24 67.4314 1430.27 67.4314 Q1436.23 67.4314 1439.71 62.7323 Q1443.19 58.0333 1443.19 49.9314 Q1443.19 41.8701 1439.71 37.1711 Q1436.23 32.4315 1430.27 32.4315 M1430.27 26.1121 Q1439.99 26.1121 1445.54 32.4315 Q1451.09 38.7509 1451.09 49.9314 Q1451.09 61.0714 1445.54 67.4314 Q1439.99 73.7508 1430.27 73.7508 Q1420.51 73.7508 1414.96 67.4314 Q1409.45 61.0714 1409.45 49.9314 Q1409.45 38.7509 1414.96 32.4315 Q1420.51 26.1121 1430.27 26.1121 Z\" fill=\"#000000\" fill-rule=\"nonzero\" fill-opacity=\"1\" /><path clip-path=\"url(#clip680)\" d=\"M1498.61 27.2059 L1482.2 49.2833 L1499.46 72.576 L1490.67 72.576 L1477.47 54.752 L1464.26 72.576 L1455.47 72.576 L1473.09 48.8377 L1456.97 27.2059 L1465.76 27.2059 L1477.79 43.369 L1489.82 27.2059 L1498.61 27.2059 Z\" fill=\"#000000\" fill-rule=\"nonzero\" fill-opacity=\"1\" /><path clip-path=\"url(#clip680)\" d=\"M1509.99 27.2059 L1517.45 27.2059 L1517.45 72.576 L1509.99 72.576 L1509.99 27.2059 M1509.99 9.54393 L1517.45 9.54393 L1517.45 18.9825 L1509.99 18.9825 L1509.99 9.54393 Z\" fill=\"#000000\" fill-rule=\"nonzero\" fill-opacity=\"1\" /><path clip-path=\"url(#clip680)\" d=\"M1568.37 35.9153 Q1571.16 30.8922 1575.05 28.5022 Q1578.94 26.1121 1584.21 26.1121 Q1591.3 26.1121 1595.14 31.0947 Q1598.99 36.0368 1598.99 45.1919 L1598.99 72.576 L1591.5 72.576 L1591.5 45.4349 Q1591.5 38.913 1589.19 35.7533 Q1586.88 32.5936 1582.14 32.5936 Q1576.35 32.5936 1572.99 36.4419 Q1569.62 40.2903 1569.62 46.9338 L1569.62 72.576 L1562.13 72.576 L1562.13 45.4349 Q1562.13 38.8725 1559.82 35.7533 Q1557.51 32.5936 1552.69 32.5936 Q1546.98 32.5936 1543.62 36.4824 Q1540.25 40.3308 1540.25 46.9338 L1540.25 72.576 L1532.76 72.576 L1532.76 27.2059 L1540.25 27.2059 L1540.25 34.2544 Q1542.81 30.082 1546.37 28.0971 Q1549.94 26.1121 1554.84 26.1121 Q1559.78 26.1121 1563.22 28.6237 Q1566.71 31.1352 1568.37 35.9153 Z\" fill=\"#000000\" fill-rule=\"nonzero\" fill-opacity=\"1\" /><path clip-path=\"url(#clip680)\" d=\"M1634.48 49.7694 Q1625.44 49.7694 1621.96 51.8354 Q1618.48 53.9013 1618.48 58.8839 Q1618.48 62.8538 1621.07 65.2034 Q1623.7 67.5124 1628.2 67.5124 Q1634.4 67.5124 1638.12 63.1374 Q1641.89 58.7219 1641.89 51.4303 L1641.89 49.7694 L1634.48 49.7694 M1649.35 46.6907 L1649.35 72.576 L1641.89 72.576 L1641.89 65.6895 Q1639.34 69.8214 1635.53 71.8063 Q1631.72 73.7508 1626.21 73.7508 Q1619.25 73.7508 1615.12 69.8619 Q1611.02 65.9325 1611.02 59.3701 Q1611.02 51.7138 1616.13 47.825 Q1621.27 43.9361 1631.44 43.9361 L1641.89 43.9361 L1641.89 43.2069 Q1641.89 38.0623 1638.49 35.2672 Q1635.13 32.4315 1629.01 32.4315 Q1625.12 32.4315 1621.43 33.3632 Q1617.75 34.295 1614.35 36.1584 L1614.35 29.2718 Q1618.44 27.692 1622.29 26.9223 Q1626.13 26.1121 1629.78 26.1121 Q1639.62 26.1121 1644.48 31.2163 Q1649.35 36.3204 1649.35 46.6907 Z\" fill=\"#000000\" fill-rule=\"nonzero\" fill-opacity=\"1\" /><path clip-path=\"url(#clip680)\" d=\"M1672.07 14.324 L1672.07 27.2059 L1687.42 27.2059 L1687.42 32.9987 L1672.07 32.9987 L1672.07 57.6282 Q1672.07 63.1779 1673.57 64.7578 Q1675.11 66.3376 1679.77 66.3376 L1687.42 66.3376 L1687.42 72.576 L1679.77 72.576 Q1671.14 72.576 1667.86 69.3758 Q1664.58 66.1351 1664.58 57.6282 L1664.58 32.9987 L1659.11 32.9987 L1659.11 27.2059 L1664.58 27.2059 L1664.58 14.324 L1672.07 14.324 Z\" fill=\"#000000\" fill-rule=\"nonzero\" fill-opacity=\"1\" /><path clip-path=\"url(#clip680)\" d=\"M1697.23 27.2059 L1704.68 27.2059 L1704.68 72.576 L1697.23 72.576 L1697.23 27.2059 M1697.23 9.54393 L1704.68 9.54393 L1704.68 18.9825 L1697.23 18.9825 L1697.23 9.54393 Z\" fill=\"#000000\" fill-rule=\"nonzero\" fill-opacity=\"1\" /><path clip-path=\"url(#clip680)\" d=\"M1737.86 32.4315 Q1731.86 32.4315 1728.38 37.1306 Q1724.89 41.7891 1724.89 49.9314 Q1724.89 58.0738 1728.34 62.7728 Q1731.82 67.4314 1737.86 67.4314 Q1743.81 67.4314 1747.3 62.7323 Q1750.78 58.0333 1750.78 49.9314 Q1750.78 41.8701 1747.3 37.1711 Q1743.81 32.4315 1737.86 32.4315 M1737.86 26.1121 Q1747.58 26.1121 1753.13 32.4315 Q1758.68 38.7509 1758.68 49.9314 Q1758.68 61.0714 1753.13 67.4314 Q1747.58 73.7508 1737.86 73.7508 Q1728.09 73.7508 1722.55 67.4314 Q1717.04 61.0714 1717.04 49.9314 Q1717.04 38.7509 1722.55 32.4315 Q1728.09 26.1121 1737.86 26.1121 Z\" fill=\"#000000\" fill-rule=\"nonzero\" fill-opacity=\"1\" /><path clip-path=\"url(#clip680)\" d=\"M1808.75 45.1919 L1808.75 72.576 L1801.29 72.576 L1801.29 45.4349 Q1801.29 38.994 1798.78 35.7938 Q1796.27 32.5936 1791.25 32.5936 Q1785.21 32.5936 1781.73 36.4419 Q1778.24 40.2903 1778.24 46.9338 L1778.24 72.576 L1770.75 72.576 L1770.75 27.2059 L1778.24 27.2059 L1778.24 34.2544 Q1780.92 30.163 1784.52 28.1376 Q1788.17 26.1121 1792.91 26.1121 Q1800.73 26.1121 1804.74 30.9732 Q1808.75 35.7938 1808.75 45.1919 Z\" fill=\"#000000\" fill-rule=\"nonzero\" fill-opacity=\"1\" /><path clip-path=\"url(#clip680)\" d=\"M1872.96 9.54393 L1872.96 15.7418 L1865.83 15.7418 Q1861.82 15.7418 1860.24 17.3622 Q1858.7 18.9825 1858.7 23.1955 L1858.7 27.2059 L1870.97 27.2059 L1870.97 32.9987 L1858.7 32.9987 L1858.7 72.576 L1851.2 72.576 L1851.2 32.9987 L1844.07 32.9987 L1844.07 27.2059 L1851.2 27.2059 L1851.2 24.0462 Q1851.2 16.471 1854.73 13.0277 Q1858.25 9.54393 1865.91 9.54393 L1872.96 9.54393 Z\" fill=\"#000000\" fill-rule=\"nonzero\" fill-opacity=\"1\" /><path clip-path=\"url(#clip680)\" d=\"M1896.77 32.4315 Q1890.78 32.4315 1887.3 37.1306 Q1883.81 41.7891 1883.81 49.9314 Q1883.81 58.0738 1887.25 62.7728 Q1890.74 67.4314 1896.77 67.4314 Q1902.73 67.4314 1906.21 62.7323 Q1909.7 58.0333 1909.7 49.9314 Q1909.7 41.8701 1906.21 37.1711 Q1902.73 32.4315 1896.77 32.4315 M1896.77 26.1121 Q1906.5 26.1121 1912.05 32.4315 Q1917.6 38.7509 1917.6 49.9314 Q1917.6 61.0714 1912.05 67.4314 Q1906.5 73.7508 1896.77 73.7508 Q1887.01 73.7508 1881.46 67.4314 Q1875.95 61.0714 1875.95 49.9314 Q1875.95 38.7509 1881.46 32.4315 Q1887.01 26.1121 1896.77 26.1121 Z\" fill=\"#000000\" fill-rule=\"nonzero\" fill-opacity=\"1\" /><path clip-path=\"url(#clip680)\" d=\"M1956.24 34.1734 Q1954.99 33.4443 1953.49 33.1202 Q1952.03 32.7556 1950.25 32.7556 Q1943.93 32.7556 1940.52 36.8875 Q1937.16 40.9789 1937.16 48.6757 L1937.16 72.576 L1929.67 72.576 L1929.67 27.2059 L1937.16 27.2059 L1937.16 34.2544 Q1939.51 30.1225 1943.28 28.1376 Q1947.05 26.1121 1952.43 26.1121 Q1953.2 26.1121 1954.14 26.2337 Q1955.07 26.3147 1956.2 26.5172 L1956.24 34.1734 Z\" fill=\"#000000\" fill-rule=\"nonzero\" fill-opacity=\"1\" /><path clip-path=\"url(#clip680)\" d=\"M1989.82 12.096 L1998.05 12.096 L1998.05 48.8377 Q1998.05 58.5599 2001.57 62.8538 Q2005.1 67.1073 2012.99 67.1073 Q2020.85 67.1073 2024.38 62.8538 Q2027.9 58.5599 2027.9 48.8377 L2027.9 12.096 L2036.13 12.096 L2036.13 49.8504 Q2036.13 61.6791 2030.25 67.7149 Q2024.42 73.7508 2012.99 73.7508 Q2001.53 73.7508 1995.66 67.7149 Q1989.82 61.6791 1989.82 49.8504 L1989.82 12.096 Z\" fill=\"#000000\" fill-rule=\"nonzero\" fill-opacity=\"1\" /><path clip-path=\"url(#clip680)\" d=\"M2058.2 12.096 L2058.2 34.5785 L2051.32 34.5785 L2051.32 12.096 L2058.2 12.096 Z\" fill=\"#000000\" fill-rule=\"nonzero\" fill-opacity=\"1\" /><path clip-path=\"url(#clip680)\" d=\"M2081.01 12.096 L2081.01 34.5785 L2074.12 34.5785 L2074.12 12.096 L2081.01 12.096 Z\" fill=\"#000000\" fill-rule=\"nonzero\" fill-opacity=\"1\" /><circle clip-path=\"url(#clip682)\" cx=\"2293.31\" cy=\"159.909\" r=\"14.4\" fill=\"#009af9\" fill-rule=\"evenodd\" fill-opacity=\"1\" stroke=\"#000000\" stroke-opacity=\"1\" stroke-width=\"3.2\"/>\n",
       "<circle clip-path=\"url(#clip682)\" cx=\"2128.2\" cy=\"355.092\" r=\"14.4\" fill=\"#009af9\" fill-rule=\"evenodd\" fill-opacity=\"1\" stroke=\"#000000\" stroke-opacity=\"1\" stroke-width=\"3.2\"/>\n",
       "<circle clip-path=\"url(#clip682)\" cx=\"1963.09\" cy=\"550.418\" r=\"14.4\" fill=\"#009af9\" fill-rule=\"evenodd\" fill-opacity=\"1\" stroke=\"#000000\" stroke-opacity=\"1\" stroke-width=\"3.2\"/>\n",
       "<circle clip-path=\"url(#clip682)\" cx=\"1797.97\" cy=\"745.789\" r=\"14.4\" fill=\"#009af9\" fill-rule=\"evenodd\" fill-opacity=\"1\" stroke=\"#000000\" stroke-opacity=\"1\" stroke-width=\"3.2\"/>\n",
       "<circle clip-path=\"url(#clip682)\" cx=\"1632.86\" cy=\"941.209\" r=\"14.4\" fill=\"#009af9\" fill-rule=\"evenodd\" fill-opacity=\"1\" stroke=\"#000000\" stroke-opacity=\"1\" stroke-width=\"3.2\"/>\n",
       "<circle clip-path=\"url(#clip682)\" cx=\"1467.74\" cy=\"1137.76\" r=\"14.4\" fill=\"#009af9\" fill-rule=\"evenodd\" fill-opacity=\"1\" stroke=\"#000000\" stroke-opacity=\"1\" stroke-width=\"3.2\"/>\n",
       "<circle clip-path=\"url(#clip682)\" cx=\"1302.63\" cy=\"1350.38\" r=\"14.4\" fill=\"#009af9\" fill-rule=\"evenodd\" fill-opacity=\"1\" stroke=\"#000000\" stroke-opacity=\"1\" stroke-width=\"3.2\"/>\n",
       "<circle clip-path=\"url(#clip682)\" cx=\"1137.51\" cy=\"1374.46\" r=\"14.4\" fill=\"#009af9\" fill-rule=\"evenodd\" fill-opacity=\"1\" stroke=\"#000000\" stroke-opacity=\"1\" stroke-width=\"3.2\"/>\n",
       "<circle clip-path=\"url(#clip682)\" cx=\"972.399\" cy=\"1207.27\" r=\"14.4\" fill=\"#009af9\" fill-rule=\"evenodd\" fill-opacity=\"1\" stroke=\"#000000\" stroke-opacity=\"1\" stroke-width=\"3.2\"/>\n",
       "<circle clip-path=\"url(#clip682)\" cx=\"807.285\" cy=\"1161.42\" r=\"14.4\" fill=\"#009af9\" fill-rule=\"evenodd\" fill-opacity=\"1\" stroke=\"#000000\" stroke-opacity=\"1\" stroke-width=\"3.2\"/>\n",
       "<circle clip-path=\"url(#clip682)\" cx=\"642.171\" cy=\"1036.08\" r=\"14.4\" fill=\"#009af9\" fill-rule=\"evenodd\" fill-opacity=\"1\" stroke=\"#000000\" stroke-opacity=\"1\" stroke-width=\"3.2\"/>\n",
       "<circle clip-path=\"url(#clip682)\" cx=\"477.056\" cy=\"1009.33\" r=\"14.4\" fill=\"#009af9\" fill-rule=\"evenodd\" fill-opacity=\"1\" stroke=\"#000000\" stroke-opacity=\"1\" stroke-width=\"3.2\"/>\n",
       "<circle clip-path=\"url(#clip682)\" cx=\"311.942\" cy=\"800.94\" r=\"14.4\" fill=\"#009af9\" fill-rule=\"evenodd\" fill-opacity=\"1\" stroke=\"#000000\" stroke-opacity=\"1\" stroke-width=\"3.2\"/>\n",
       "<polyline clip-path=\"url(#clip682)\" style=\"stroke:#e26f46; stroke-linecap:round; stroke-linejoin:round; stroke-width:4; stroke-opacity:1; fill:none\" points=\"2293.31,159.909 2128.2,355.092 1963.09,550.418 1797.97,745.789 1632.86,941.209 1467.74,1137.76 1302.63,1350.38 1137.51,1374.46 972.399,1207.27 807.285,1161.42 642.171,1036.08 477.056,1009.33 311.942,800.94 \"/>\n",
       "</svg>\n"
      ]
     },
     "execution_count": 11,
     "metadata": {},
     "output_type": "execute_result"
    }
   ],
   "source": [
    "# Ploting error vs h on log-log scale\n",
    "scatter(hvals, errors, xscale=:log10, yscale=:log10, xlabel=\"h\", ylabel=\"Error\", title=\"Finite difference Approximation for U''\", legend=false, markersize=4)\n",
    "plot!(hvals, errors, line=:solid)"
   ]
  },
  {
   "cell_type": "code",
   "execution_count": null,
   "id": "bbd73ef2-087e-4a79-a7b0-f9d7322497b9",
   "metadata": {},
   "outputs": [],
   "source": []
  }
 ],
 "metadata": {
  "kernelspec": {
   "display_name": "Julia 1.11.0",
   "language": "julia",
   "name": "julia-1.11"
  },
  "language_info": {
   "file_extension": ".jl",
   "mimetype": "application/julia",
   "name": "julia",
   "version": "1.11.0"
  }
 },
 "nbformat": 4,
 "nbformat_minor": 5
}
